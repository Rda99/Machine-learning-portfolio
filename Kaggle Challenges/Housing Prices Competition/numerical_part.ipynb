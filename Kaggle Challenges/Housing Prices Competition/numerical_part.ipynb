{
 "cells": [
  {
   "cell_type": "code",
   "execution_count": 94,
   "metadata": {},
   "outputs": [],
   "source": [
    "import pandas as pd\n",
    "from sklearn.model_selection import train_test_split\n",
    "from sklearn.ensemble import RandomForestRegressor\n",
    "from sklearn.metrics import mean_absolute_error as MAE\n",
    "import numpy as np\n",
    "from sklearn.preprocessing import LabelEncoder, OneHotEncoder\n",
    "from sklearn.feature_selection import SelectKBest"
   ]
  },
  {
   "cell_type": "code",
   "execution_count": 117,
   "metadata": {},
   "outputs": [
    {
     "name": "stdout",
     "output_type": "stream",
     "text": [
      "The shape of X  (1460, 36)\n",
      "The shape of X_test  (1459, 36)\n"
     ]
    }
   ],
   "source": [
    "# Read the data\n",
    "X = pd.read_csv('train.csv', index_col='Id') \n",
    "X_test = pd.read_csv('test.csv', index_col='Id')\n",
    "\n",
    "# Remove rows with missing target, separate target from predictors\n",
    "X.dropna(axis=0, subset=['SalePrice'], inplace=True)\n",
    "y = X.SalePrice\n",
    "X.drop(['SalePrice'], axis=1, inplace=True)\n",
    "\n",
    "\n",
    "numerical_cols = [col for col in X.columns if X[col].dtype != \"object\"]\n",
    "object_cols = [col for col in X.columns if X[col].dtype == \"object\"]\n",
    "\n",
    "X = X[numerical_cols]\n",
    "X_test = X_test[numerical_cols]\n",
    "\n",
    "\n",
    "print('The shape of X ', X.shape)\n",
    "print('The shape of X_test ', X_test.shape)"
   ]
  },
  {
   "cell_type": "code",
   "execution_count": 96,
   "metadata": {},
   "outputs": [],
   "source": [
    "#Simple Imputer"
   ]
  },
  {
   "cell_type": "code",
   "execution_count": 118,
   "metadata": {},
   "outputs": [
    {
     "name": "stdout",
     "output_type": "stream",
     "text": [
      "The shape of X  (1460, 36)\n",
      "The shape of X_test  (1459, 36)\n"
     ]
    }
   ],
   "source": [
    "from sklearn.impute import SimpleImputer\n",
    "\n",
    "in_median = SimpleImputer(strategy = 'median')\n",
    "\n",
    "transformed_X = pd.DataFrame(in_median.fit_transform(X))\n",
    "transformed_X_test = pd.DataFrame(in_median.transform(X_test))\n",
    "\n",
    "transformed_X.columns = X.columns\n",
    "transformed_X_test.columns = X_test.columns\n",
    "\n",
    "\n",
    "\n",
    "X = transformed_X\n",
    "X_test = transformed_X_test\n",
    "\n",
    "print('The shape of X ', X.shape)\n",
    "print('The shape of X_test ', X_test.shape)\n"
   ]
  },
  {
   "cell_type": "code",
   "execution_count": 121,
   "metadata": {},
   "outputs": [
    {
     "name": "stdout",
     "output_type": "stream",
     "text": [
      "The shape of X  (1460, 36)\n",
      "The shape of X_test  (1459, 36)\n"
     ]
    }
   ],
   "source": [
    "X.to_csv(\"X_numerical_median.csv\", header = True, index = False)\n",
    "X_test.to_csv(\"X_numerical_test_median.csv\", header = True, index = False)\n",
    "\n",
    "print('The shape of X ', X.shape)\n",
    "print('The shape of X_test ', X_test.shape)"
   ]
  },
  {
   "cell_type": "code",
   "execution_count": null,
   "metadata": {},
   "outputs": [],
   "source": []
  }
 ],
 "metadata": {
  "kernelspec": {
   "display_name": "Python 3",
   "language": "python",
   "name": "python3"
  },
  "language_info": {
   "codemirror_mode": {
    "name": "ipython",
    "version": 3
   },
   "file_extension": ".py",
   "mimetype": "text/x-python",
   "name": "python",
   "nbconvert_exporter": "python",
   "pygments_lexer": "ipython3",
   "version": "3.7.0"
  }
 },
 "nbformat": 4,
 "nbformat_minor": 2
}
