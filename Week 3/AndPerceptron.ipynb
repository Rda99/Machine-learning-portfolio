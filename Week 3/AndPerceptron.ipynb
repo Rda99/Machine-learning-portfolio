{
 "cells": [
  {
   "cell_type": "code",
   "execution_count": 1,
   "metadata": {},
   "outputs": [],
   "source": [
    "import pandas as pd"
   ]
  },
  {
   "cell_type": "code",
   "execution_count": 16,
   "metadata": {},
   "outputs": [
    {
     "name": "stdout",
     "output_type": "stream",
     "text": [
      "   Input 1    Input 2    Linear Combination    Activation Output   Is Correct\n",
      "0        0          0                    -1                    0          Yes\n",
      "1        0          1                    -1                    0          Yes\n",
      "2        1          0                    -1                    0          Yes\n",
      "3        1          1                    -1                    0           No\n",
      "You got 1 wrongs\n"
     ]
    }
   ],
   "source": [
    "#Change the values of weights to understand how it works!\n",
    "\n",
    "weights1 = 0\n",
    "weights2 = 0\n",
    "bias = -1\n",
    "\n",
    "\n",
    "test_inputs = [(0,0), (0, 1), (1,0), (1,1)]\n",
    "correct_outputs = [False, False, False, True]\n",
    "outputs = []\n",
    "\n",
    "#Generate and check\n",
    "for test_input, correct_output in zip (test_inputs, correct_outputs):\n",
    "    linear_combination = weights1 * test_input[0] + weights2* test_input[1] + bias\n",
    "    output = int(linear_combination >= 0)\n",
    "    is_correct_string = 'Yes' if output == correct_output else 'No'\n",
    "    outputs.append([test_input[0], test_input[1], linear_combination, output, is_correct_string])\n",
    "\n",
    "\n",
    "output_frame = pd.DataFrame(outputs, columns=['Input 1', '  Input 2', '  Linear Combination', '  Activation Output', '  Is Correct'])\n",
    "print(output_frame)\n",
    "    \n",
    "num_wrong = len([output[4] for output in outputs if output[4] == 'No'])\n",
    "\n",
    "if not num_wrong:\n",
    "    print('Nice! You got it correct ')\n",
    "else:\n",
    "    print('You got {} wrongs'.format(num_wrong))"
   ]
  },
  {
   "cell_type": "code",
   "execution_count": null,
   "metadata": {},
   "outputs": [],
   "source": []
  }
 ],
 "metadata": {
  "kernelspec": {
   "display_name": "Python 3",
   "language": "python",
   "name": "python3"
  },
  "language_info": {
   "codemirror_mode": {
    "name": "ipython",
    "version": 3
   },
   "file_extension": ".py",
   "mimetype": "text/x-python",
   "name": "python",
   "nbconvert_exporter": "python",
   "pygments_lexer": "ipython3",
   "version": "3.7.0"
  }
 },
 "nbformat": 4,
 "nbformat_minor": 2
}
