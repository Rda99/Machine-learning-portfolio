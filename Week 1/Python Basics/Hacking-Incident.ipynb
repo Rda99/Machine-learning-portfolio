{
 "cells": [
  {
   "cell_type": "code",
   "execution_count": 2,
   "metadata": {},
   "outputs": [
    {
     "name": "stdout",
     "output_type": "stream",
     "text": [
      "abcdefghijklmnopqrstuvwxyz\n",
      "['a', 'b', 'c', 'd', 'e', 'f', 'g', 'h', 'i', 'j', 'k', 'l', 'm', 'n', 'o', 'p', 'q', 'r', 's', 't', 'u', 'v', 'w', 'x', 'y', 'z']\n",
      "26\n"
     ]
    }
   ],
   "source": [
    "import string\n",
    "alphabet = string.ascii_lowercase\n",
    "print(alphabet)\n",
    "print(list(alphabet))\n",
    "print(len(alphabet))\n",
    "\n"
   ]
  },
  {
   "cell_type": "markdown",
   "metadata": {},
   "source": [
    "# Hacking Incident\n",
    "\n",
    "We're being hacked recruit! We need your help to get a message to the main server.\n",
    "\n",
    "We need you to accomplish 3 tasks:\n",
    "\n",
    "1. Create a Caeser cipher encryption function.\n",
    "2. Create another function that decrypts a Caeser cipher message.\n",
    "3. Create a function that will brute force every possible output for an encrypted Caeser cipher.\n",
    "\n",
    "We've set up a framework for you to follow here in this notebook. Feel free to use it, or create your own base functions."
   ]
  },
  {
   "cell_type": "markdown",
   "metadata": {},
   "source": [
    "## Encryption Function\n",
    "\n",
    "This function should take in two parameters, the plain text message and the shift number for the Caeser cipher.\n",
    "\n",
    "To create the cipher you will need to create a list of the alphabet. You can either write out the alphabet manually, or use the [string library](https://docs.python.org/3/library/string.html?highlight=string#module-string) to get all the lowercase alphabet. You will first need to run *import string* , and then call the attribute. For example:\n",
    "\n",
    "    import string\n",
    "    alphabet = string.ascii_lowercase\n",
    "    print(alphabet)\n",
    "    print(list(alphabet))\n",
    "    \n",
    "An empty function with some comments is here below for you to fill out:"
   ]
  },
  {
   "cell_type": "code",
   "execution_count": 140,
   "metadata": {},
   "outputs": [],
   "source": [
    "def encrypt(text,shift):\n",
    "    '''\n",
    "    INPUT: text as a string and an integer for the shift value.\n",
    "    OUTPUT: The shifted text after being run through the Caeser cipher.\n",
    "    '''\n",
    "    alphabet = list(string.ascii_lowercase)\n",
    "    text = text.lower()\n",
    "    \n",
    "    shiftedMessage = []\n",
    "    \n",
    "    print(text)\n",
    "           \n",
    "    for i in text:\n",
    "        if i.isspace():\n",
    "            shiftedMessage.append(' ')\n",
    "        else:\n",
    "            shiftedMessage.append(alphabet[(alphabet.index(i) + shift ) % 26])\n",
    "       \n",
    "    \n",
    "    shiftedMessage = ''.join(shiftedMessage)\n",
    "    print(shiftedMessage)\n",
    "    pass\n",
    "                \n",
    "    \n",
    "         "
   ]
  },
  {
   "cell_type": "code",
   "execution_count": 141,
   "metadata": {},
   "outputs": [
    {
     "name": "stdout",
     "output_type": "stream",
     "text": [
      "emrah sariboz\n",
      "hpudk vdulerc\n"
     ]
    }
   ],
   "source": [
    "encrypt(\"Emrah Sariboz\", 3)"
   ]
  },
  {
   "cell_type": "markdown",
   "metadata": {},
   "source": [
    "** An example input and output: **"
   ]
  },
  {
   "cell_type": "code",
   "execution_count": 142,
   "metadata": {},
   "outputs": [
    {
     "name": "stdout",
     "output_type": "stream",
     "text": [
      "get this message to the main server\n",
      "trg guvf zrffntr gb gur znva freire\n"
     ]
    }
   ],
   "source": [
    "encrypt('Get this message to the main server',13)"
   ]
  },
  {
   "cell_type": "markdown",
   "metadata": {},
   "source": [
    "## Decryption\n",
    "\n",
    "Now create a new function that will \"decrypt\" a shifted message. It should basically do the reverse of the encryption function. The process will be very similar as your previous function, but the alphabets will be switched."
   ]
  },
  {
   "cell_type": "code",
   "execution_count": 147,
   "metadata": {},
   "outputs": [],
   "source": [
    "def decrypt(text,shift):\n",
    "    '''\n",
    "    INPUT: A shifted message and the integer shift value\n",
    "    OUTPUT: The plain text original message.\n",
    "    '''\n",
    "    \n",
    "    alphabet = list(string.ascii_lowercase)\n",
    "    text = text.lower()\n",
    "    \n",
    "    shiftedMessage = []\n",
    "               \n",
    "    for i in text:\n",
    "        if i.isspace():\n",
    "            shiftedMessage.append(' ')\n",
    "        else:\n",
    "            shiftedMessage.append(alphabet[(alphabet.index(i) - shift ) % 26])\n",
    "       \n",
    "    \n",
    "    shiftedMessage = ''.join(shiftedMessage)\n",
    "    print(shiftedMessage)\n",
    "    \n",
    "    pass"
   ]
  },
  {
   "cell_type": "markdown",
   "metadata": {},
   "source": [
    "** Here is an example output: **"
   ]
  },
  {
   "cell_type": "code",
   "execution_count": 148,
   "metadata": {},
   "outputs": [
    {
     "name": "stdout",
     "output_type": "stream",
     "text": [
      "get this message to the main server\n"
     ]
    }
   ],
   "source": [
    "decrypt('trg guvf zrffntr gb gur znva freire',13)"
   ]
  },
  {
   "cell_type": "markdown",
   "metadata": {},
   "source": [
    "## Brute Force Method\n",
    "\n",
    "There is no gaurantee that the person on the other end will know the correct shift value. In that case we need a function that can brute force through every possible shift value and print out each outcome. Then a user could quickly read through the printed messages and find the one that is readable.\n",
    "\n",
    "** In case you aren't given the shift factor number, create a function that prints out every possible shifted string given an encrypted string. **"
   ]
  },
  {
   "cell_type": "code",
   "execution_count": 151,
   "metadata": {},
   "outputs": [],
   "source": [
    "def brute_force(message):\n",
    "    \"\"\"\n",
    "    INPUT: A shifted message\n",
    "    OUTPUT: Prints out every possible shifted message. \n",
    "            One of the printed outputs should be readable.\n",
    "    \"\"\"\n",
    "    \n",
    "    for i in range(len(alphabet)):\n",
    "        print('Using shift value of {}'.format(i))\n",
    "        print()\n",
    "        decrypt(message, i)\n",
    "    pass"
   ]
  },
  {
   "cell_type": "markdown",
   "metadata": {},
   "source": [
    "** An example output: **"
   ]
  },
  {
   "cell_type": "code",
   "execution_count": 152,
   "metadata": {},
   "outputs": [
    {
     "name": "stdout",
     "output_type": "stream",
     "text": [
      "Using shift value of 0\n",
      "\n",
      "trg guvf zrffntr gb gur znva freire\n",
      "Using shift value of 1\n",
      "\n",
      "sqf ftue yqeemsq fa ftq ymuz eqdhqd\n",
      "Using shift value of 2\n",
      "\n",
      "rpe estd xpddlrp ez esp xlty dpcgpc\n",
      "Using shift value of 3\n",
      "\n",
      "qod drsc wocckqo dy dro wksx cobfob\n",
      "Using shift value of 4\n",
      "\n",
      "pnc cqrb vnbbjpn cx cqn vjrw bnaena\n",
      "Using shift value of 5\n",
      "\n",
      "omb bpqa umaaiom bw bpm uiqv amzdmz\n",
      "Using shift value of 6\n",
      "\n",
      "nla aopz tlzzhnl av aol thpu zlycly\n",
      "Using shift value of 7\n",
      "\n",
      "mkz znoy skyygmk zu znk sgot ykxbkx\n",
      "Using shift value of 8\n",
      "\n",
      "ljy ymnx rjxxflj yt ymj rfns xjwajw\n",
      "Using shift value of 9\n",
      "\n",
      "kix xlmw qiwweki xs xli qemr wivziv\n",
      "Using shift value of 10\n",
      "\n",
      "jhw wklv phvvdjh wr wkh pdlq vhuyhu\n",
      "Using shift value of 11\n",
      "\n",
      "igv vjku oguucig vq vjg ockp ugtxgt\n",
      "Using shift value of 12\n",
      "\n",
      "hfu uijt nfttbhf up uif nbjo tfswfs\n",
      "Using shift value of 13\n",
      "\n",
      "get this message to the main server\n",
      "Using shift value of 14\n",
      "\n",
      "fds sghr ldrrzfd sn sgd lzhm rdqudq\n",
      "Using shift value of 15\n",
      "\n",
      "ecr rfgq kcqqyec rm rfc kygl qcptcp\n",
      "Using shift value of 16\n",
      "\n",
      "dbq qefp jbppxdb ql qeb jxfk pbosbo\n",
      "Using shift value of 17\n",
      "\n",
      "cap pdeo iaoowca pk pda iwej oanran\n",
      "Using shift value of 18\n",
      "\n",
      "bzo ocdn hznnvbz oj ocz hvdi nzmqzm\n",
      "Using shift value of 19\n",
      "\n",
      "ayn nbcm gymmuay ni nby guch mylpyl\n",
      "Using shift value of 20\n",
      "\n",
      "zxm mabl fxlltzx mh max ftbg lxkoxk\n",
      "Using shift value of 21\n",
      "\n",
      "ywl lzak ewkksyw lg lzw esaf kwjnwj\n",
      "Using shift value of 22\n",
      "\n",
      "xvk kyzj dvjjrxv kf kyv drze jvimvi\n",
      "Using shift value of 23\n",
      "\n",
      "wuj jxyi cuiiqwu je jxu cqyd iuhluh\n",
      "Using shift value of 24\n",
      "\n",
      "vti iwxh bthhpvt id iwt bpxc htgktg\n",
      "Using shift value of 25\n",
      "\n",
      "ush hvwg asggous hc hvs aowb gsfjsf\n"
     ]
    }
   ],
   "source": [
    "brute_force('trg guvf zrffntr gb gur znva freire')"
   ]
  },
  {
   "cell_type": "code",
   "execution_count": null,
   "metadata": {},
   "outputs": [],
   "source": []
  }
 ],
 "metadata": {
  "kernelspec": {
   "display_name": "Python 3",
   "language": "python",
   "name": "python3"
  },
  "language_info": {
   "codemirror_mode": {
    "name": "ipython",
    "version": 3
   },
   "file_extension": ".py",
   "mimetype": "text/x-python",
   "name": "python",
   "nbconvert_exporter": "python",
   "pygments_lexer": "ipython3",
   "version": "3.7.0"
  }
 },
 "nbformat": 4,
 "nbformat_minor": 2
}
