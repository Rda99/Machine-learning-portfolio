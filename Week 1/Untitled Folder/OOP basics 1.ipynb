{
 "cells": [
  {
   "cell_type": "code",
   "execution_count": 3,
   "metadata": {},
   "outputs": [],
   "source": [
    "class Sample():\n",
    "    pass"
   ]
  },
  {
   "cell_type": "code",
   "execution_count": 4,
   "metadata": {},
   "outputs": [
    {
     "data": {
      "text/plain": [
       "__main__.Sample"
      ]
     },
     "execution_count": 4,
     "metadata": {},
     "output_type": "execute_result"
    }
   ],
   "source": [
    "x = Sample()\n",
    "type(x)"
   ]
  },
  {
   "cell_type": "code",
   "execution_count": 23,
   "metadata": {},
   "outputs": [],
   "source": [
    "class Agent():\n",
    "    country = 'USA'\n",
    "    def __init__(self, name):\n",
    "        self.name = name\n",
    "    \n",
    "    def sayHi(self):\n",
    "        print('Hi Agent {} and from {}'.format(self.name, country))"
   ]
  },
  {
   "cell_type": "code",
   "execution_count": 27,
   "metadata": {},
   "outputs": [
    {
     "data": {
      "text/plain": [
       "'USA'"
      ]
     },
     "execution_count": 27,
     "metadata": {},
     "output_type": "execute_result"
    }
   ],
   "source": [
    "obj = Agent('Emrah')\n",
    "obj.country"
   ]
  },
  {
   "cell_type": "markdown",
   "metadata": {},
   "source": [
    "# Methods"
   ]
  },
  {
   "cell_type": "code",
   "execution_count": 30,
   "metadata": {},
   "outputs": [],
   "source": [
    "class Circle():\n",
    "    pi = 3.14\n",
    "    \n",
    "    def __init__(self, radius):\n",
    "        self.radius = radius\n",
    "    \n",
    "    def area(self):\n",
    "        return self.radius ** 2 * Circle.pi"
   ]
  },
  {
   "cell_type": "code",
   "execution_count": 33,
   "metadata": {},
   "outputs": [
    {
     "data": {
      "text/plain": [
       "3"
      ]
     },
     "execution_count": 33,
     "metadata": {},
     "output_type": "execute_result"
    }
   ],
   "source": [
    "myCircle = Circle(3)\n",
    "myCircle.radius"
   ]
  },
  {
   "cell_type": "code",
   "execution_count": 34,
   "metadata": {},
   "outputs": [
    {
     "data": {
      "text/plain": [
       "28.26"
      ]
     },
     "execution_count": 34,
     "metadata": {},
     "output_type": "execute_result"
    }
   ],
   "source": [
    "myCircle.area()"
   ]
  },
  {
   "cell_type": "code",
   "execution_count": 53,
   "metadata": {},
   "outputs": [],
   "source": [
    "class Person():\n",
    "    def __init__(self, first_name, last_name):\n",
    "        self.first_name = first_name\n",
    "        self.last_name = last_name\n",
    "    def report(self):\n",
    "        print(\"I am {} {}\".format(self.first_name, self.last_name))\n",
    "    def hello(self):\n",
    "        print(\"HI!\")"
   ]
  },
  {
   "cell_type": "code",
   "execution_count": 54,
   "metadata": {},
   "outputs": [
    {
     "name": "stdout",
     "output_type": "stream",
     "text": [
      "I am Emrah Sariboz\n"
     ]
    }
   ],
   "source": [
    "p = Person('Emrah', 'Sariboz')\n",
    "p.report()"
   ]
  },
  {
   "cell_type": "code",
   "execution_count": 57,
   "metadata": {},
   "outputs": [],
   "source": [
    "class Agent(Person):\n",
    "    def __init__(self,first_name, last_name, code_name):\n",
    "        super().__init__(first_name, last_name)\n",
    "        self.code_name = code_name\n",
    "    def report(self):\n",
    "        print(\"I am {} {} and code is {}\".format(self.first_name, self.last_name, self.code_name))\n",
    "    "
   ]
  },
  {
   "cell_type": "code",
   "execution_count": 56,
   "metadata": {},
   "outputs": [
    {
     "name": "stdout",
     "output_type": "stream",
     "text": [
      "I am Emrah Sariboz and code is 23\n",
      "HI!\n"
     ]
    }
   ],
   "source": [
    "obj = Agent('Emrah','Sariboz',23)\n",
    "obj.report()\n",
    "obj.hello()"
   ]
  },
  {
   "cell_type": "markdown",
   "metadata": {},
   "source": [
    "# Examples"
   ]
  },
  {
   "cell_type": "code",
   "execution_count": 102,
   "metadata": {},
   "outputs": [],
   "source": [
    "#Use self if you want a variable to be differnet for each instance \n",
    "#Dont use self if you want to keep the common variable between all the instances\n",
    "#of the same class\n",
    "class Employee:\n",
    "    raise_amount = 1.05\n",
    "    num_of_emps = 0\n",
    "    def __init__(self, first_name, last_name, age, pay):\n",
    "        self.first_name = first_name\n",
    "        self.last_name = last_name\n",
    "        self.age = age\n",
    "        self.pay = pay\n",
    "        Employee.num_of_emps += 1\n",
    "    \n",
    "    def Report(self):\n",
    "        print('{} {} Age: {} Pay: {}'.format(self.first_name, self.last_name, self.age, self.pay))\n",
    "    \n",
    "    def PayRaise(self):\n",
    "        #If you Employee.raise_amount, the raise amount will\n",
    "        #be same for the all instance of Empployee class.\n",
    "        \n",
    "        #Passing self, it basically means it is binded to instance of the class\n",
    "        self.pay = int(self.pay * self.raise_amount)\n",
    "        "
   ]
  },
  {
   "cell_type": "code",
   "execution_count": 103,
   "metadata": {},
   "outputs": [
    {
     "name": "stdout",
     "output_type": "stream",
     "text": [
      "E S Age: 25 Pay: 5000\n",
      "E S Age: 25 Pay: 5250\n",
      "T K Age: 25 Pay: 5000\n",
      "T K Age: 25 Pay: 6000\n"
     ]
    }
   ],
   "source": [
    "emp1 = Employee(\"E\",\"S\",25, 5000)\n",
    "emp1.Report()\n",
    "emp1.PayRaise()\n",
    "emp1.Report()\n",
    "emp2 = Employee(\"T\",\"K\",25, 5000)\n",
    "emp2.raise_amount = 1.20\n",
    "emp2.Report()\n",
    "emp2.PayRaise()\n",
    "emp2.Report()"
   ]
  },
  {
   "cell_type": "code",
   "execution_count": 104,
   "metadata": {},
   "outputs": [
    {
     "name": "stdout",
     "output_type": "stream",
     "text": [
      "2\n"
     ]
    }
   ],
   "source": [
    " print(Employee.num_of_emps)"
   ]
  },
  {
   "cell_type": "code",
   "execution_count": null,
   "metadata": {},
   "outputs": [],
   "source": [
    " "
   ]
  }
 ],
 "metadata": {
  "kernelspec": {
   "display_name": "Python 3",
   "language": "python",
   "name": "python3"
  },
  "language_info": {
   "codemirror_mode": {
    "name": "ipython",
    "version": 3
   },
   "file_extension": ".py",
   "mimetype": "text/x-python",
   "name": "python",
   "nbconvert_exporter": "python",
   "pygments_lexer": "ipython3",
   "version": "3.7.0"
  }
 },
 "nbformat": 4,
 "nbformat_minor": 2
}
