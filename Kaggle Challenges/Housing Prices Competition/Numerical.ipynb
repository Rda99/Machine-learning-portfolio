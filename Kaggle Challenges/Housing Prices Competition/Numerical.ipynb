{
 "cells": [
  {
   "cell_type": "code",
   "execution_count": 258,
   "metadata": {},
   "outputs": [],
   "source": [
    "import pandas as pd\n",
    "from sklearn.model_selection import train_test_split\n",
    "from sklearn.ensemble import RandomForestRegressor\n",
    "from sklearn.metrics import mean_absolute_error as MAE\n",
    "import numpy as np\n",
    "from sklearn.preprocessing import LabelEncoder, OneHotEncoder\n",
    "from sklearn.feature_selection import SelectKBest"
   ]
  },
  {
   "cell_type": "code",
   "execution_count": 259,
   "metadata": {},
   "outputs": [
    {
     "name": "stdout",
     "output_type": "stream",
     "text": [
      "The shape of X  (1460, 80)\n",
      "The shape of X_test  (1459, 79)\n"
     ]
    }
   ],
   "source": [
    "# Read the data\n",
    "X = pd.read_csv('train.csv', index_col='Id') \n",
    "X_test = pd.read_csv('test.csv', index_col='Id')\n",
    "\n",
    "print('The shape of X ', X.shape)\n",
    "\n",
    "print('The shape of X_test ', X_test.shape)\n",
    "\n",
    "# Remove rows with missing target, separate target from predictors\n",
    "X.dropna(axis=0, subset=['SalePrice'], inplace=True)\n",
    "y = X.SalePrice\n",
    "X.drop(['SalePrice'], axis=1, inplace=True)\n",
    "\n",
    "\n",
    "# To keep things simple, we'll drop columns with missing values\n",
    "cols_with_missing = [col for col in X.columns if X[col].isnull().any()] \n",
    "\n",
    "X.drop(cols_with_missing, axis=1, inplace=True)\n",
    "X_test.drop(cols_with_missing, axis=1, inplace=True)\n",
    "\n"
   ]
  },
  {
   "cell_type": "code",
   "execution_count": 260,
   "metadata": {},
   "outputs": [
    {
     "name": "stdout",
     "output_type": "stream",
     "text": [
      "The shape of X  (1460, 18)\n",
      "The shape of X_test  (1459, 18)\n"
     ]
    }
   ],
   "source": [
    "good_label_cols = [col for col in X if \n",
    "                   set(X[col]) == set(X_test[col])]\n",
    "\n",
    "low_cardinality_cols = [col for col in good_label_cols if X[col].nunique() < 10]\n",
    "\n",
    "X = pd.DataFrame(X[low_cardinality_cols], columns=low_cardinality_cols)\n",
    "X_test = pd.DataFrame(X_test[low_cardinality_cols], columns=low_cardinality_cols)\n",
    "\n",
    "print('The shape of X ', X.shape)\n",
    "\n",
    "print('The shape of X_test ', X_test.shape)\n"
   ]
  },
  {
   "cell_type": "code",
   "execution_count": 268,
   "metadata": {},
   "outputs": [
    {
     "name": "stdout",
     "output_type": "stream",
     "text": [
      "The shape of X  (1460, 91)\n",
      "The shape of X_test  (1459, 91)\n",
      "The shape of num_X  (1460, 0)\n",
      "The shape of num_X_test  (1459, 0)\n",
      "The shape of OH_X_train  (1460, 196)\n",
      "The shape of OH_X_valid  (1459, 196)\n",
      "The shape of OH_X_train  (1460, 196)\n",
      "The shape of OH_X_valid  (1459, 196)\n"
     ]
    }
   ],
   "source": [
    "good_label_cols = [col for col in X if \n",
    "                   set(X[col]) == set(X_test[col])]\n",
    "\n",
    "\n",
    "low_cardinality_cols = [col for col in good_label_cols if X[col].nunique() < 10]\n",
    "\n",
    "\n",
    "X = pd.DataFrame(X[low_cardinality_cols], columns=low_cardinality_cols)\n",
    "X_test = pd.DataFrame(X_test[low_cardinality_cols], columns=low_cardinality_cols)\n",
    "\n",
    "\n",
    "print('The shape of X ', X.shape)\n",
    "print('The shape of X_test ', X_test.shape)\n",
    "\n",
    "\n",
    "OH_encoder = OneHotEncoder(handle_unknown='ignore', sparse=False)\n",
    "\n",
    "\n",
    "OH_col_X = pd.DataFrame(OH_encoder.fit_transform(X[low_cardinality_cols]))\n",
    "OH_col_X_test = pd.DataFrame(OH_encoder.transform(X_test[low_cardinality_cols]))\n",
    "\n",
    "\n",
    "num_X = X.drop(low_cardinality_cols, axis=1)\n",
    "num_X_test = X_test.drop(low_cardinality_cols, axis=1)\n",
    "\n",
    "\n",
    "\n",
    "print('The shape of num_X ', num_X.shape)\n",
    "print('The shape of num_X_test ', num_X_test.shape)\n",
    "\n",
    "\n",
    "OH_X_train = pd.concat([OH_col_X, num_X], axis=1) # Your code here\n",
    "OH_X_valid = pd.concat([OH_col_X_test, num_X_test], axis=1) # Your code here\n",
    "\n",
    "OH_X_train.dropna(inplace=True, axis=0)\n",
    "OH_X_valid.dropna(inplace=True, axis=0)\n",
    "\n",
    "\n",
    "print('The shape of OH_X_train ', OH_X_train.shape)\n",
    "print('The shape of OH_X_valid ', OH_X_valid.shape)\n",
    "\n",
    "\n",
    "\n",
    "OH_X_train.to_csv(\"X_numerical.csv\", header = True, index = False)\n",
    "OH_X_valid.to_csv(\"X_numerical_test.csv\", header = True, index = False)\n",
    "\n",
    "\n",
    "print('The shape of OH_X_train ', OH_X_train.shape)\n",
    "print('The shape of OH_X_valid ', OH_X_valid.shape)"
   ]
  },
  {
   "cell_type": "code",
   "execution_count": null,
   "metadata": {},
   "outputs": [],
   "source": []
  },
  {
   "cell_type": "code",
   "execution_count": 269,
   "metadata": {},
   "outputs": [],
   "source": [
    "### Reading all the values"
   ]
  },
  {
   "cell_type": "code",
   "execution_count": 270,
   "metadata": {},
   "outputs": [
    {
     "data": {
      "text/plain": [
       "0"
      ]
     },
     "execution_count": 270,
     "metadata": {},
     "output_type": "execute_result"
    }
   ],
   "source": [
    "X1 = pd.read_csv('X_numerical_median.csv', index_col=None) \n",
    "X2 = pd.read_csv('X_numerical.csv', index_col=None)\n",
    "\n",
    "X_test1 = pd.read_csv('X_numerical_test.csv', index_col = None)\n",
    "X_test2 = pd.read_csv('X_numerical_test_median.csv', index_col=None)\n",
    "\n",
    "X = pd.concat([X1, X2], axis=1)\n",
    "df= df.reset_index(drop=True)\n",
    "X_test = pd.concat([X_test1, X_test2], axis=1)\n",
    "\n",
    "X_test.isna().any().sum()"
   ]
  },
  {
   "cell_type": "code",
   "execution_count": 271,
   "metadata": {},
   "outputs": [],
   "source": [
    "X_train, X_test2, y_train, y_test2 = train_test_split(X, y, test_size = 0.2, random_state = 0)\n"
   ]
  },
  {
   "cell_type": "code",
   "execution_count": 279,
   "metadata": {},
   "outputs": [],
   "source": [
    "\n",
    "from sklearn.ensemble import AdaBoostClassifier\n",
    "from sklearn.tree import DecisionTreeClassifier\n",
    "\n",
    "classifierName = DecisionTreeClassifier(criterion = 'gini', random_state = 1)\n",
    "boost = AdaBoostClassifier(base_estimator=classifierName, n_estimators=100, learning_rate = 0.1, random_state= 1)\n",
    "\n",
    "boost.fit(X_train, y_train)\n",
    "preds_test = boost.predict(X_test)"
   ]
  },
  {
   "cell_type": "code",
   "execution_count": 280,
   "metadata": {},
   "outputs": [],
   "source": [
    "samplesubmission = pd.read_csv('sample_submission.csv')\n",
    "\n",
    "\n",
    "\n",
    "\n",
    "# Save test predictions to file\n",
    "output = pd.DataFrame({'Id': X_test.index,\n",
    "                       'SalePrice': preds_test})\n",
    "\n",
    "output = pd.DataFrame({'Id': samplesubmission.Id, 'SalePrice': preds_test})\n",
    "\n",
    "output.to_csv('finalPredicton.csv', index=False)"
   ]
  },
  {
   "cell_type": "code",
   "execution_count": null,
   "metadata": {},
   "outputs": [],
   "source": []
  }
 ],
 "metadata": {
  "kernelspec": {
   "display_name": "Python 3",
   "language": "python",
   "name": "python3"
  },
  "language_info": {
   "codemirror_mode": {
    "name": "ipython",
    "version": 3
   },
   "file_extension": ".py",
   "mimetype": "text/x-python",
   "name": "python",
   "nbconvert_exporter": "python",
   "pygments_lexer": "ipython3",
   "version": "3.7.0"
  }
 },
 "nbformat": 4,
 "nbformat_minor": 2
}
