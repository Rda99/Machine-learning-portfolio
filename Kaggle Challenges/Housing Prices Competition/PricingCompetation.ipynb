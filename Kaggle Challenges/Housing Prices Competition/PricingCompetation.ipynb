{
 "cells": [
  {
   "cell_type": "code",
   "execution_count": 1,
   "metadata": {},
   "outputs": [],
   "source": [
    "import pandas as pd\n",
    "from sklearn.model_selection import train_test_split\n",
    "from sklearn.ensemble import RandomForestRegressor\n",
    "from sklearn.metrics import mean_absolute_error as MAE\n",
    "import numpy as np\n",
    "from sklearn.preprocessing import LabelEncoder, OneHotEncoder\n",
    "from sklearn.feature_selection import SelectKBest"
   ]
  },
  {
   "cell_type": "code",
   "execution_count": 2,
   "metadata": {},
   "outputs": [
    {
     "data": {
      "text/plain": [
       "Index(['Id', 'MSSubClass', 'MSZoning', 'LotFrontage', 'LotArea', 'Street',\n",
       "       'Alley', 'LotShape', 'LandContour', 'Utilities', 'LotConfig',\n",
       "       'LandSlope', 'Neighborhood', 'Condition1', 'Condition2', 'BldgType',\n",
       "       'HouseStyle', 'OverallQual', 'OverallCond', 'YearBuilt', 'YearRemodAdd',\n",
       "       'RoofStyle', 'RoofMatl', 'Exterior1st', 'Exterior2nd', 'MasVnrType',\n",
       "       'MasVnrArea', 'ExterQual', 'ExterCond', 'Foundation', 'BsmtQual',\n",
       "       'BsmtCond', 'BsmtExposure', 'BsmtFinType1', 'BsmtFinSF1',\n",
       "       'BsmtFinType2', 'BsmtFinSF2', 'BsmtUnfSF', 'TotalBsmtSF', 'Heating',\n",
       "       'HeatingQC', 'CentralAir', 'Electrical', '1stFlrSF', '2ndFlrSF',\n",
       "       'LowQualFinSF', 'GrLivArea', 'BsmtFullBath', 'BsmtHalfBath', 'FullBath',\n",
       "       'HalfBath', 'BedroomAbvGr', 'KitchenAbvGr', 'KitchenQual',\n",
       "       'TotRmsAbvGrd', 'Functional', 'Fireplaces', 'FireplaceQu', 'GarageType',\n",
       "       'GarageYrBlt', 'GarageFinish', 'GarageCars', 'GarageArea', 'GarageQual',\n",
       "       'GarageCond', 'PavedDrive', 'WoodDeckSF', 'OpenPorchSF',\n",
       "       'EnclosedPorch', '3SsnPorch', 'ScreenPorch', 'PoolArea', 'PoolQC',\n",
       "       'Fence', 'MiscFeature', 'MiscVal', 'MoSold', 'YrSold', 'SaleType',\n",
       "       'SaleCondition', 'SalePrice'],\n",
       "      dtype='object')"
      ]
     },
     "execution_count": 2,
     "metadata": {},
     "output_type": "execute_result"
    }
   ],
   "source": [
    "home_data = pd.read_csv(\"train.csv\")\n",
    "#home_data = home_data.dropna(axis='columns').head()\n",
    "y = home_data.SalePrice\n",
    "home_data.columns\n"
   ]
  },
  {
   "cell_type": "code",
   "execution_count": 8,
   "metadata": {},
   "outputs": [
    {
     "data": {
      "text/plain": [
       "array(['CollgCr', 'Veenker', 'Crawfor', 'NoRidge', 'Mitchel', 'Somerst',\n",
       "       'NWAmes', 'OldTown', 'BrkSide', 'Sawyer', 'NridgHt', 'NAmes',\n",
       "       'SawyerW', 'IDOTRR', 'MeadowV', 'Edwards', 'Timber', 'Gilbert',\n",
       "       'StoneBr', 'ClearCr', 'NPkVill', 'Blmngtn', 'BrDale', 'SWISU',\n",
       "       'Blueste'], dtype=object)"
      ]
     },
     "execution_count": 8,
     "metadata": {},
     "output_type": "execute_result"
    }
   ],
   "source": [
    "#Dropping Nan Valued Columns\n",
    "#home_data = home_data.dropna(axis='columns').head()\n",
    "#home_data.info()\n",
    "\n",
    "home_data.loc[:, 'Neighborhood'].unique()"
   ]
  },
  {
   "cell_type": "code",
   "execution_count": null,
   "metadata": {},
   "outputs": [],
   "source": []
  },
  {
   "cell_type": "code",
   "execution_count": 9,
   "metadata": {},
   "outputs": [
    {
     "name": "stdout",
     "output_type": "stream",
     "text": [
      "(1460, 12)\n"
     ]
    }
   ],
   "source": [
    "cols = home_data.columns\n",
    "num_cols = home_data._get_numeric_data().columns\n",
    "\n",
    "features = ['LotArea', 'BsmtFullBath', 'YearBuilt', '1stFlrSF', '2ndFlrSF', 'GarageCars', 'GarageArea', 'YrSold', 'FullBath', 'BedroomAbvGr', 'TotRmsAbvGrd', 'MoSold']\n",
    "X = home_data[features]\n",
    "\n",
    "categorical_var = list(s[s])\n",
    "print(X.shape)\n",
    "\n",
    "\n"
   ]
  },
  {
   "cell_type": "code",
   "execution_count": 13,
   "metadata": {},
   "outputs": [
    {
     "name": "stdout",
     "output_type": "stream",
     "text": [
      "<class 'pandas.core.series.Series'>\n",
      "Id               False\n",
      "MSSubClass       False\n",
      "MSZoning          True\n",
      "LotFrontage      False\n",
      "LotArea          False\n",
      "Street            True\n",
      "Alley             True\n",
      "LotShape          True\n",
      "LandContour       True\n",
      "Utilities         True\n",
      "LotConfig         True\n",
      "LandSlope         True\n",
      "Neighborhood      True\n",
      "Condition1        True\n",
      "Condition2        True\n",
      "BldgType          True\n",
      "HouseStyle        True\n",
      "OverallQual      False\n",
      "OverallCond      False\n",
      "YearBuilt        False\n",
      "YearRemodAdd     False\n",
      "RoofStyle         True\n",
      "RoofMatl          True\n",
      "Exterior1st       True\n",
      "Exterior2nd       True\n",
      "MasVnrType        True\n",
      "MasVnrArea       False\n",
      "ExterQual         True\n",
      "ExterCond         True\n",
      "Foundation        True\n",
      "                 ...  \n",
      "BedroomAbvGr     False\n",
      "KitchenAbvGr     False\n",
      "KitchenQual       True\n",
      "TotRmsAbvGrd     False\n",
      "Functional        True\n",
      "Fireplaces       False\n",
      "FireplaceQu       True\n",
      "GarageType        True\n",
      "GarageYrBlt      False\n",
      "GarageFinish      True\n",
      "GarageCars       False\n",
      "GarageArea       False\n",
      "GarageQual        True\n",
      "GarageCond        True\n",
      "PavedDrive        True\n",
      "WoodDeckSF       False\n",
      "OpenPorchSF      False\n",
      "EnclosedPorch    False\n",
      "3SsnPorch        False\n",
      "ScreenPorch      False\n",
      "PoolArea         False\n",
      "PoolQC            True\n",
      "Fence             True\n",
      "MiscFeature       True\n",
      "MiscVal          False\n",
      "MoSold           False\n",
      "YrSold           False\n",
      "SaleType          True\n",
      "SaleCondition     True\n",
      "SalePrice        False\n",
      "Length: 81, dtype: bool\n"
     ]
    }
   ],
   "source": [
    "s = (home_data.dtypes == 'object')\n",
    "print(type(s))\n",
    "print(s)"
   ]
  },
  {
   "cell_type": "code",
   "execution_count": 48,
   "metadata": {},
   "outputs": [
    {
     "data": {
      "text/plain": [
       "LotArea        0\n",
       "MiscVal        0\n",
       "2ndFlrSF       0\n",
       "PoolArea       0\n",
       "BsmtFinSF2     0\n",
       "GrLivArea      0\n",
       "TotalBsmtSF    0\n",
       "GarageCars     0\n",
       "dtype: int64"
      ]
     },
     "execution_count": 48,
     "metadata": {},
     "output_type": "execute_result"
    }
   ],
   "source": [
    "from sklearn.preprocessing import StandardScaler\n",
    "\n",
    "features = ['LotArea','MiscVal','2ndFlrSF','PoolArea','BsmtFinSF2','GrLivArea','TotalBsmtSF', 'GarageCars']\n",
    "X = home_data[features]\n",
    "X.isna().sum()"
   ]
  },
  {
   "cell_type": "code",
   "execution_count": 35,
   "metadata": {},
   "outputs": [],
   "source": [
    "sc = StandardScaler()\n",
    "sc.fit(X)\n",
    "X = sc.transform(X)"
   ]
  },
  {
   "cell_type": "code",
   "execution_count": 36,
   "metadata": {},
   "outputs": [],
   "source": [
    "train_X, val_X, train_y, val_y = train_test_split(X, y, random_state=1)\n"
   ]
  },
  {
   "cell_type": "code",
   "execution_count": 37,
   "metadata": {},
   "outputs": [],
   "source": [
    "#Getting the best max_leaf_nodes\n",
    "def get_accuracy(max_leaf_nodes, train_X, val_X, train_y, val_y):\n",
    "    model = RandomForestRegressor(max_leaf_nodes=max_leaf_nodes, random_state=0)\n",
    "    model.fit(train_X, train_y)\n",
    "    preds_val = model.predict(val_X)\n",
    "    acc = MAE(val_y, preds_val)\n",
    "    \n",
    "    return acc\n",
    "\n",
    "    \n",
    "max_leaf = [x for x in range(50, 250)]\n",
    "\n",
    " \n",
    "best_accuracy = {}  \n",
    "for i in range(len(max_leaf)):\n",
    "    best_accuracy[i] = get_accuracy(max_leaf[i], train_X,val_X, train_y, val_y)"
   ]
  },
  {
   "cell_type": "code",
   "execution_count": 39,
   "metadata": {},
   "outputs": [],
   "source": [
    "#Getting best n_estimators\n",
    "def get_accuracy(n_estimators, train_X, val_X, train_y, val_y):\n",
    "    model = RandomForestRegressor(n_estimators=n_estimators, max_depth=4, random_state=0)\n",
    "    model.fit(train_X, train_y)\n",
    "    preds_val = model.predict(val_X)\n",
    "    acc = MAE(val_y, preds_val)\n",
    "    return acc\n",
    "\n",
    "best_estimator = [x for x in range(50, 250)]\n",
    " \n",
    "best_accuracy_n_estimator = {}  \n",
    "for i in range(len(max_leaf)):\n",
    "    best_accuracy_n_estimator[i] = get_accuracy(best_estimator[i], train_X,val_X, train_y, val_y)"
   ]
  },
  {
   "cell_type": "code",
   "execution_count": 38,
   "metadata": {},
   "outputs": [
    {
     "name": "stdout",
     "output_type": "stream",
     "text": [
      "4\n"
     ]
    }
   ],
   "source": [
    "#Best max_leaf\n",
    "min_key = min(best_accuracy, key=best_accuracy.get)\n",
    "print(min_key)"
   ]
  },
  {
   "cell_type": "code",
   "execution_count": 40,
   "metadata": {},
   "outputs": [
    {
     "name": "stdout",
     "output_type": "stream",
     "text": [
      "68\n"
     ]
    }
   ],
   "source": [
    "#Best n_estimator\n",
    "min_key = min(best_accuracy_n_estimator, key=best_accuracy_n_estimator.get)\n",
    "print(min_key)"
   ]
  },
  {
   "cell_type": "code",
   "execution_count": 41,
   "metadata": {},
   "outputs": [
    {
     "data": {
      "text/plain": [
       "RandomForestRegressor(bootstrap=True, ccp_alpha=0.0, criterion='mse',\n",
       "                      max_depth=None, max_features='auto', max_leaf_nodes=4,\n",
       "                      max_samples=None, min_impurity_decrease=0.0,\n",
       "                      min_impurity_split=None, min_samples_leaf=1,\n",
       "                      min_samples_split=2, min_weight_fraction_leaf=0.0,\n",
       "                      n_estimators=68, n_jobs=None, oob_score=False,\n",
       "                      random_state=None, verbose=0, warm_start=False)"
      ]
     },
     "execution_count": 41,
     "metadata": {},
     "output_type": "execute_result"
    }
   ],
   "source": [
    "rf_model_on_full_data = RandomForestRegressor(n_estimators=68, max_leaf_nodes=4)\n",
    "rf_model_on_full_data.fit(train_X, train_y)"
   ]
  },
  {
   "cell_type": "code",
   "execution_count": 50,
   "metadata": {},
   "outputs": [
    {
     "name": "stdout",
     "output_type": "stream",
     "text": [
      "LotArea        0\n",
      "MiscVal        0\n",
      "2ndFlrSF       0\n",
      "PoolArea       0\n",
      "BsmtFinSF2     1\n",
      "GrLivArea      0\n",
      "TotalBsmtSF    1\n",
      "GarageCars     1\n",
      "dtype: int64\n"
     ]
    },
    {
     "name": "stderr",
     "output_type": "stream",
     "text": [
      "C:\\Anaconda\\lib\\site-packages\\pandas\\core\\frame.py:3790: SettingWithCopyWarning: \n",
      "A value is trying to be set on a copy of a slice from a DataFrame\n",
      "\n",
      "See the caveats in the documentation: http://pandas.pydata.org/pandas-docs/stable/indexing.html#indexing-view-versus-copy\n",
      "  downcast=downcast, **kwargs)\n"
     ]
    }
   ],
   "source": [
    "test_data = pd.read_csv(\"test.csv\")\n",
    "test_X = test_data[features]\n",
    "print(test_X.isna().sum())\n",
    "test_X.fillna(0, inplace=True)\n",
    "\n",
    "\n",
    "sc = StandardScaler()\n",
    "sc.fit(test_X)\n",
    "test_X = sc.transform(test_X)\n",
    "\n",
    "#dummies = pd.get_dummies(test_X.Neighborhood)\n",
    "#df_dummies = pd.concat([test_X, dummies], axis = 'columns')\n",
    "#df_dummies.drop(['Neighborhood'], axis='columns', inplace=True)\n",
    "#test_X = df_dummies\n",
    "\n",
    "\n",
    "test_preds = rf_model_on_full_data.predict(test_X)\n",
    "output = pd.DataFrame({'Id': test_data.Id,\n",
    "                       'SalePrice': test_preds})\n",
    "output.to_csv('submission3.csv', index=False)\n",
    "\n",
    "\n"
   ]
  },
  {
   "cell_type": "code",
   "execution_count": null,
   "metadata": {},
   "outputs": [],
   "source": []
  }
 ],
 "metadata": {
  "kernelspec": {
   "display_name": "Python 3",
   "language": "python",
   "name": "python3"
  },
  "language_info": {
   "codemirror_mode": {
    "name": "ipython",
    "version": 3
   },
   "file_extension": ".py",
   "mimetype": "text/x-python",
   "name": "python",
   "nbconvert_exporter": "python",
   "pygments_lexer": "ipython3",
   "version": "3.7.0"
  }
 },
 "nbformat": 4,
 "nbformat_minor": 2
}
