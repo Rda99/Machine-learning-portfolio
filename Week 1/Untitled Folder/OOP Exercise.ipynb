{
 "cells": [
  {
   "cell_type": "code",
   "execution_count": 6,
   "metadata": {},
   "outputs": [],
   "source": [
    "from random import randint as RI\n",
    "class GuessingGame():\n",
    "    def __init__(self):\n",
    "        self.random_choise = RI(0, 10)\n",
    "    \n",
    "    def resetRandom(self):\n",
    "        self.random_choise = 0\n",
    "    \n",
    "    def guessInput(self):\n",
    "        randNum = int(input('Give it a shot'))\n",
    "        \n",
    "        if randNum == self.random_choise:\n",
    "            print(\"You got it\")\n",
    "        else:\n",
    "            print(\"Nope. The num was {} and your guess was {}\".format(self.random_choise, randNum))"
   ]
  },
  {
   "cell_type": "code",
   "execution_count": 14,
   "metadata": {},
   "outputs": [
    {
     "name": "stdout",
     "output_type": "stream",
     "text": [
      "Give it a shot0\n",
      "You got it\n"
     ]
    }
   ],
   "source": [
    "g = GuessingGame()\n",
    "g.random_choise\n",
    "\n",
    "\n",
    "g.resetRandom()\n",
    "\n",
    "g.guessInput()"
   ]
  },
  {
   "cell_type": "code",
   "execution_count": null,
   "metadata": {},
   "outputs": [],
   "source": []
  }
 ],
 "metadata": {
  "kernelspec": {
   "display_name": "Python 3",
   "language": "python",
   "name": "python3"
  },
  "language_info": {
   "codemirror_mode": {
    "name": "ipython",
    "version": 3
   },
   "file_extension": ".py",
   "mimetype": "text/x-python",
   "name": "python",
   "nbconvert_exporter": "python",
   "pygments_lexer": "ipython3",
   "version": "3.7.0"
  }
 },
 "nbformat": 4,
 "nbformat_minor": 2
}
