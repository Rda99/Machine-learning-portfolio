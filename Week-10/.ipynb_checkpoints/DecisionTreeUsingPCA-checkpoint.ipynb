{
 "cells": [
  {
   "cell_type": "code",
   "execution_count": 1,
   "metadata": {},
   "outputs": [],
   "source": [
    "import numpy as np\n",
    "from sklearn.decomposition import PCA, KernelPCA\n",
    "from sklearn.preprocessing import StandardScaler\n",
    "from sklearn.metrics import accuracy_score\n",
    "from sklearn.tree import DecisionTreeClassifier\n",
    "from sklearn import datasets\n",
    "from sklearn import metrics\n",
    "from sklearn.model_selection import train_test_split\n",
    "from sklearn.pipeline import make_pipeline\n",
    "import matplotlib.pyplot as plt\n",
    "from sklearn.neighbors import KNeighborsClassifier\n",
    "from sklearn.model_selection import cross_val_score\n",
    "from sklearn.metrics import classification_report\n",
    "from sklearn.metrics import confusion_matrix"
   ]
  },
  {
   "cell_type": "code",
   "execution_count": 3,
   "metadata": {},
   "outputs": [],
   "source": [
    "mnist_dataset = datasets.fetch_openml('mnist_784')\n",
    "\n",
    "random_state = 0\n",
    "\n",
    "\n",
    "X = mnist_dataset.data\n",
    "y = mnist_dataset.target\n",
    "X_train, X_test, y_train, y_test = train_test_split(X, y,stratify = y, test_size = 0.1)"
   ]
  },
  {
   "cell_type": "code",
   "execution_count": 4,
   "metadata": {},
   "outputs": [],
   "source": [
    "X = X_testt\n",
    "y = y_test"
   ]
  },
  {
   "cell_type": "code",
   "execution_count": 3,
   "metadata": {},
   "outputs": [],
   "source": [
    "# Reduce dimension to 2 with PCA\n",
    "pca = make_pipeline(StandardScaler(),\n",
    "                    PCA(0.95))\n",
    "\n",
    "# Use a nearest neighbor classifier to evaluate the methods\n",
    "decision_tree_classifier = DecisionTreeClassifier(max_depth=10, min_samples_split=5)\n",
    "\n",
    "dim_reduction_methods = [('PCA', pca)]\n",
    "        \n",
    "\n",
    "dataset_columns = np.array(['zero','one','two','three','four','five','six','seven','eight','nine'])\n"
   ]
  },
  {
   "cell_type": "code",
   "execution_count": 4,
   "metadata": {},
   "outputs": [
    {
     "name": "stdout",
     "output_type": "stream",
     "text": [
      "Training accuracy  0.8269183673469388\n",
      "Testing accuracy  0.7865714285714286\n"
     ]
    }
   ],
   "source": [
    "for i, (name, model) in enumerate(dim_reduction_methods):\n",
    "    # Fit the method's model\n",
    "    model.fit(X_train, y_train)\n",
    "\n",
    "    # Fit a decision tree classifier on the training set\n",
    "    decision_tree_classifier.fit(model.transform(X_train), y_train)\n",
    "\n",
    "    accuracy_on_tranining = accuracy_score(decision_tree_classifier.predict(model.fit_transform(X_train)), y_train)\n",
    "    \n",
    "    \n",
    "    accuracy_on_testing = accuracy_score(decision_tree_classifier.predict(model.transform(X_test)), y_test)\n",
    "    \n",
    "    print('Training accuracy ', accuracy_on_tranining)\n",
    "    print('Testing accuracy ',  accuracy_on_testing)\n",
    "    "
   ]
  },
  {
   "cell_type": "code",
   "execution_count": 9,
   "metadata": {},
   "outputs": [
    {
     "name": "stdout",
     "output_type": "stream",
     "text": [
      "              precision    recall  f1-score   support\n",
      "\n",
      "        zero       0.91      0.84      0.88      2071\n",
      "         one       0.97      0.91      0.94      2363\n",
      "         two       0.75      0.82      0.78      2097\n",
      "       three       0.80      0.74      0.77      2142\n",
      "        four       0.71      0.78      0.74      2047\n",
      "        five       0.70      0.70      0.70      1894\n",
      "         six       0.90      0.85      0.87      2063\n",
      "       seven       0.87      0.79      0.83      2188\n",
      "       eight       0.63      0.70      0.66      2048\n",
      "        nine       0.70      0.76      0.73      2087\n",
      "\n",
      "    accuracy                           0.79     21000\n",
      "   macro avg       0.79      0.79      0.79     21000\n",
      "weighted avg       0.80      0.79      0.79     21000\n",
      "\n",
      "Confussion matrix:\n",
      " [[1746    0   34   18   26  128   29    6   54   30]\n",
      " [   1 2144   39   22    8   11   15   14  100    9]\n",
      " [  25    5 1719   62   62   21   53   24  102   24]\n",
      " [  13    3   96 1588   22  109   21   33  221   36]\n",
      " [  15    7   73    6 1589   22   40   42   50  203]\n",
      " [  34    6   62  120   80 1321   20   13  189   49]\n",
      " [  31    6   85   24   21   90 1745    2   57    2]\n",
      " [  12   12   44   17  123   16    2 1723   33  206]\n",
      " [  16   14  127  106   64  123   20   20 1435  123]\n",
      " [  19    9   26   23  240   54    2   94   39 1581]]\n"
     ]
    }
   ],
   "source": [
    "print(classification_report(y_test, decision_tree_classifier.predict(model.transform(X_test)), target_names = dataset_columns))\n",
    "print ('Confussion matrix:\\n', confusion_matrix(y_test, decision_tree_classifier.predict(model.transform(X_test))))          "
   ]
  },
  {
   "cell_type": "code",
   "execution_count": 10,
   "metadata": {},
   "outputs": [
    {
     "name": "stdout",
     "output_type": "stream",
     "text": [
      "              precision    recall  f1-score   support\n",
      "\n",
      "        zero       0.91      0.84      0.88      2071\n",
      "         one       0.97      0.91      0.94      2363\n",
      "         two       0.75      0.82      0.78      2097\n",
      "       three       0.80      0.74      0.77      2142\n",
      "        four       0.71      0.78      0.74      2047\n",
      "        five       0.70      0.70      0.70      1894\n",
      "         six       0.90      0.85      0.87      2063\n",
      "       seven       0.87      0.79      0.83      2188\n",
      "       eight       0.63      0.70      0.66      2048\n",
      "        nine       0.70      0.76      0.73      2087\n",
      "\n",
      "    accuracy                           0.79     21000\n",
      "   macro avg       0.79      0.79      0.79     21000\n",
      "weighted avg       0.80      0.79      0.79     21000\n",
      "\n",
      "Confussion matrix:\n",
      " [[4243    3   56   16   48  231   39   18  134   44]\n",
      " [   2 5095  107   56   12   14   29    6  191    2]\n",
      " [  33    4 4237  138   86   43   33   29  241   49]\n",
      " [  29    6  223 3837   61  278   29   28  426   82]\n",
      " [  17   11  122    9 4019   36   47   55  111  350]\n",
      " [  67   10   92  246  162 3239   32   22  431  118]\n",
      " [  47   10  102   42   16  186 4307    0  102    1]\n",
      " [  14   11  129   40  235   37    8 4163   71  397]\n",
      " [  31   27  278  190  150  273   34   16 3566  212]\n",
      " [  22    7   36   44  432  104    7  157   55 4007]]\n"
     ]
    }
   ],
   "source": [
    "print(classification_report(y_test, decision_tree_classifier.predict(model.transform(X_test)), target_names = dataset_columns))\n",
    "print ('Confussion matrix:\\n', confusion_matrix(y_train, decision_tree_classifier.predict(model.fit_transform(X_train))))          "
   ]
  },
  {
   "cell_type": "code",
   "execution_count": 6,
   "metadata": {},
   "outputs": [
    {
     "data": {
      "text/plain": [
       "GridSearchCV(cv=3, error_score=nan,\n",
       "             estimator=Pipeline(memory=None,\n",
       "                                steps=[('kpca',\n",
       "                                        KernelPCA(alpha=1.0, coef0=1,\n",
       "                                                  copy_X=True, degree=3,\n",
       "                                                  eigen_solver='auto',\n",
       "                                                  fit_inverse_transform=False,\n",
       "                                                  gamma=None, kernel='linear',\n",
       "                                                  kernel_params=None,\n",
       "                                                  max_iter=None, n_components=2,\n",
       "                                                  n_jobs=None,\n",
       "                                                  random_state=None,\n",
       "                                                  remove_zero_eig=False,\n",
       "                                                  tol=0)),\n",
       "                                       ('log_reg',\n",
       "                                        DecisionTreeClassifier(ccp_...\n",
       "                                                               presort='deprecated',\n",
       "                                                               random_state=None,\n",
       "                                                               splitter='best'))],\n",
       "                                verbose=False),\n",
       "             iid='deprecated', n_jobs=None,\n",
       "             param_grid=[{'kpca__gamma': array([0.03      , 0.03222222, 0.03444444, 0.03666667, 0.03888889,\n",
       "       0.04111111, 0.04333333, 0.04555556, 0.04777778, 0.05      ]),\n",
       "                          'kpca__kernel': ['rbf', 'sigmoid']}],\n",
       "             pre_dispatch='2*n_jobs', refit=True, return_train_score=False,\n",
       "             scoring=None, verbose=0)"
      ]
     },
     "execution_count": 6,
     "metadata": {},
     "output_type": "execute_result"
    }
   ],
   "source": [
    "from sklearn.model_selection import GridSearchCV\n",
    "from sklearn.linear_model import LogisticRegression\n",
    "from sklearn.pipeline import Pipeline\n",
    "\n",
    "clf = Pipeline([\n",
    "        (\"kpca\", KernelPCA(n_components=2)),\n",
    "        (\"log_reg\", DecisionTreeClassifier())\n",
    "    ])\n",
    "\n",
    "param_grid = [{\n",
    "        \"kpca__gamma\": np.linspace(0.03, 0.05, 10),\n",
    "        \"kpca__kernel\": [\"rbf\", \"sigmoid\"]\n",
    "    }]\n",
    "\n",
    "grid_search = GridSearchCV(clf, param_grid, cv=3)\n",
    "grid_search.fit(model.transform(X_test), y_test)"
   ]
  },
  {
   "cell_type": "code",
   "execution_count": 7,
   "metadata": {},
   "outputs": [
    {
     "name": "stdout",
     "output_type": "stream",
     "text": [
      "{'kpca__gamma': 0.04555555555555556, 'kpca__kernel': 'sigmoid'}\n"
     ]
    }
   ],
   "source": [
    "print(grid_search.best_params_)"
   ]
  },
  {
   "cell_type": "code",
   "execution_count": 8,
   "metadata": {},
   "outputs": [],
   "source": [
    "from sklearn.model_selection import KFold\n",
    "kf = KFold(n_splits=2)\n",
    "kf.get_n_splits(X)\n",
    "\n",
    "\n",
    "KFold(n_splits=2, random_state=None, shuffle=False)\n",
    "for train_index, test_index in kf.split(X):\n",
    "    X_train, X_test = X[train_index], X[test_index]\n",
    "    y_train, y_test = y[train_index], y[test_index]\n"
   ]
  },
  {
   "cell_type": "code",
   "execution_count": 9,
   "metadata": {},
   "outputs": [
    {
     "name": "stdout",
     "output_type": "stream",
     "text": [
      "X_train shape (35000, 784)\n",
      "X_test shape (35000, 784)\n"
     ]
    }
   ],
   "source": [
    "print('X_train shape', X_train.shape)\n",
    "print('X_test shape', X_test.shape)"
   ]
  },
  {
   "cell_type": "code",
   "execution_count": 10,
   "metadata": {},
   "outputs": [
    {
     "name": "stdout",
     "output_type": "stream",
     "text": [
      "y_train shape (35000,)\n",
      "y_test shape (35000,)\n"
     ]
    }
   ],
   "source": [
    "print('y_train shape', y_train.shape)\n",
    "print('y_test shape', y_test.shape)"
   ]
  },
  {
   "cell_type": "code",
   "execution_count": 43,
   "metadata": {},
   "outputs": [
    {
     "name": "stdout",
     "output_type": "stream",
     "text": [
      "The number of fold is  10\n",
      "Here is a list of accuries for each fold\n"
     ]
    }
   ],
   "source": [
    "from sklearn.model_selection import cross_validate\n",
    "from sklearn.metrics import make_scorer\n",
    "from sklearn import metrics\n",
    "\n",
    "decision_tree_classifier = DecisionTreeClassifier(criterion = 'gini', max_depth=8, min_samples_split=4)\n",
    "print('The number of fold is ', 10)\n",
    "print('Here is a list of accuries for each fold')\n",
    "\n",
    "scoring = {'accuracy': make_scorer(accuracy_score),\n",
    "           'precision': make_scorer(metrics.precision_score,  average = 'weighted'),\n",
    "           'recall': make_scorer(metrics.recall_score, average = 'weighted'),\n",
    "           'f1_macro': make_scorer(metrics.f1_score, average = 'weighted')}\n",
    "\n",
    "cross_validate_result = cross_validate(decision_tree_classifier, X, y,cv=10, scoring=scoring, return_train_score=False)\n",
    "        \n"
   ]
  },
  {
   "cell_type": "code",
   "execution_count": 44,
   "metadata": {},
   "outputs": [
    {
     "data": {
      "text/plain": [
       "dict_keys(['fit_time', 'score_time', 'test_accuracy', 'test_precision', 'test_recall', 'test_f1_macro'])"
      ]
     },
     "execution_count": 44,
     "metadata": {},
     "output_type": "execute_result"
    }
   ],
   "source": [
    "cross_validate_result.keys()"
   ]
  },
  {
   "cell_type": "code",
   "execution_count": null,
   "metadata": {},
   "outputs": [],
   "source": []
  }
 ],
 "metadata": {
  "kernelspec": {
   "display_name": "Python 3",
   "language": "python",
   "name": "python3"
  },
  "language_info": {
   "codemirror_mode": {
    "name": "ipython",
    "version": 3
   },
   "file_extension": ".py",
   "mimetype": "text/x-python",
   "name": "python",
   "nbconvert_exporter": "python",
   "pygments_lexer": "ipython3",
   "version": "3.7.0"
  }
 },
 "nbformat": 4,
 "nbformat_minor": 2
}
