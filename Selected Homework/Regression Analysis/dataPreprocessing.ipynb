{
 "cells": [
  {
   "cell_type": "code",
   "execution_count": 209,
   "metadata": {},
   "outputs": [
    {
     "name": "stdout",
     "output_type": "stream",
     "text": [
      "<class 'pandas.core.frame.DataFrame'>\n",
      "RangeIndex: 67584 entries, 0 to 67583\n",
      "Data columns (total 10 columns):\n",
      "TIMESTAMP        67584 non-null object\n",
      "BIOGAS           67584 non-null float64\n",
      "BIOMASS          67584 non-null float64\n",
      "GEOTHERMAL       67584 non-null float64\n",
      "Hour             67584 non-null float64\n",
      "SMALL HYDRO      67584 non-null float64\n",
      "SOLAR            22680 non-null float64\n",
      "SOLAR PV         44904 non-null float64\n",
      "SOLAR THERMAL    44904 non-null float64\n",
      "WIND TOTAL       67584 non-null float64\n",
      "dtypes: float64(9), object(1)\n",
      "memory usage: 5.2+ MB\n",
      "None\n"
     ]
    }
   ],
   "source": [
    "import pandas as pd\n",
    "import datetime\n",
    "import numpy as np\n",
    "\n",
    "dataset = pd.read_csv(\"cali_renaw.csv\")\n",
    "\n",
    "print(dataset.info())"
   ]
  },
  {
   "cell_type": "code",
   "execution_count": 210,
   "metadata": {},
   "outputs": [
    {
     "data": {
      "text/plain": [
       "0    2011-07-21 00:00:00\n",
       "1    2011-07-21 01:00:00\n",
       "2    2011-07-21 02:00:00\n",
       "3    2011-07-21 03:00:00\n",
       "4    2011-07-21 04:00:00\n",
       "Name: TIMESTAMP, dtype: object"
      ]
     },
     "execution_count": 210,
     "metadata": {},
     "output_type": "execute_result"
    }
   ],
   "source": [
    "dataset['TIMESTAMP'].head()"
   ]
  },
  {
   "cell_type": "code",
   "execution_count": 211,
   "metadata": {},
   "outputs": [],
   "source": [
    "dataset['TIMESTAMP'] =  pd.to_datetime(dataset['TIMESTAMP'],\n",
    "                              format='%Y-%m-%d %H:%M:%S')"
   ]
  },
  {
   "cell_type": "code",
   "execution_count": 212,
   "metadata": {},
   "outputs": [
    {
     "data": {
      "text/plain": [
       "0   2011-07-21 00:00:00\n",
       "1   2011-07-21 01:00:00\n",
       "2   2011-07-21 02:00:00\n",
       "3   2011-07-21 03:00:00\n",
       "4   2011-07-21 04:00:00\n",
       "Name: TIMESTAMP, dtype: datetime64[ns]"
      ]
     },
     "execution_count": 212,
     "metadata": {},
     "output_type": "execute_result"
    }
   ],
   "source": [
    "dataset['TIMESTAMP'].head()"
   ]
  },
  {
   "cell_type": "code",
   "execution_count": 213,
   "metadata": {},
   "outputs": [
    {
     "data": {
      "text/html": [
       "<div>\n",
       "<style scoped>\n",
       "    .dataframe tbody tr th:only-of-type {\n",
       "        vertical-align: middle;\n",
       "    }\n",
       "\n",
       "    .dataframe tbody tr th {\n",
       "        vertical-align: top;\n",
       "    }\n",
       "\n",
       "    .dataframe thead th {\n",
       "        text-align: right;\n",
       "    }\n",
       "</style>\n",
       "<table border=\"1\" class=\"dataframe\">\n",
       "  <thead>\n",
       "    <tr style=\"text-align: right;\">\n",
       "      <th></th>\n",
       "      <th>TIMESTAMP</th>\n",
       "      <th>BIOGAS</th>\n",
       "      <th>BIOMASS</th>\n",
       "      <th>GEOTHERMAL</th>\n",
       "      <th>Hour</th>\n",
       "      <th>SMALL HYDRO</th>\n",
       "      <th>SOLAR</th>\n",
       "      <th>SOLAR PV</th>\n",
       "      <th>SOLAR THERMAL</th>\n",
       "      <th>WIND TOTAL</th>\n",
       "    </tr>\n",
       "  </thead>\n",
       "  <tbody>\n",
       "    <tr>\n",
       "      <th>0</th>\n",
       "      <td>2011-07-21 00:00:00</td>\n",
       "      <td>177.0</td>\n",
       "      <td>372.0</td>\n",
       "      <td>984.0</td>\n",
       "      <td>1.0</td>\n",
       "      <td>516.0</td>\n",
       "      <td>0.0</td>\n",
       "      <td>NaN</td>\n",
       "      <td>NaN</td>\n",
       "      <td>1607.0</td>\n",
       "    </tr>\n",
       "    <tr>\n",
       "      <th>1</th>\n",
       "      <td>2011-07-21 01:00:00</td>\n",
       "      <td>176.0</td>\n",
       "      <td>373.0</td>\n",
       "      <td>984.0</td>\n",
       "      <td>2.0</td>\n",
       "      <td>509.0</td>\n",
       "      <td>0.0</td>\n",
       "      <td>NaN</td>\n",
       "      <td>NaN</td>\n",
       "      <td>1619.0</td>\n",
       "    </tr>\n",
       "    <tr>\n",
       "      <th>2</th>\n",
       "      <td>2011-07-21 02:00:00</td>\n",
       "      <td>177.0</td>\n",
       "      <td>371.0</td>\n",
       "      <td>985.0</td>\n",
       "      <td>3.0</td>\n",
       "      <td>506.0</td>\n",
       "      <td>0.0</td>\n",
       "      <td>NaN</td>\n",
       "      <td>NaN</td>\n",
       "      <td>1660.0</td>\n",
       "    </tr>\n",
       "    <tr>\n",
       "      <th>3</th>\n",
       "      <td>2011-07-21 03:00:00</td>\n",
       "      <td>177.0</td>\n",
       "      <td>374.0</td>\n",
       "      <td>985.0</td>\n",
       "      <td>4.0</td>\n",
       "      <td>504.0</td>\n",
       "      <td>0.0</td>\n",
       "      <td>NaN</td>\n",
       "      <td>NaN</td>\n",
       "      <td>1633.0</td>\n",
       "    </tr>\n",
       "    <tr>\n",
       "      <th>4</th>\n",
       "      <td>2011-07-21 04:00:00</td>\n",
       "      <td>177.0</td>\n",
       "      <td>377.0</td>\n",
       "      <td>984.0</td>\n",
       "      <td>5.0</td>\n",
       "      <td>508.0</td>\n",
       "      <td>0.0</td>\n",
       "      <td>NaN</td>\n",
       "      <td>NaN</td>\n",
       "      <td>1520.0</td>\n",
       "    </tr>\n",
       "  </tbody>\n",
       "</table>\n",
       "</div>"
      ],
      "text/plain": [
       "            TIMESTAMP  BIOGAS  BIOMASS  GEOTHERMAL  Hour  SMALL HYDRO  SOLAR  \\\n",
       "0 2011-07-21 00:00:00   177.0    372.0       984.0   1.0        516.0    0.0   \n",
       "1 2011-07-21 01:00:00   176.0    373.0       984.0   2.0        509.0    0.0   \n",
       "2 2011-07-21 02:00:00   177.0    371.0       985.0   3.0        506.0    0.0   \n",
       "3 2011-07-21 03:00:00   177.0    374.0       985.0   4.0        504.0    0.0   \n",
       "4 2011-07-21 04:00:00   177.0    377.0       984.0   5.0        508.0    0.0   \n",
       "\n",
       "   SOLAR PV  SOLAR THERMAL  WIND TOTAL  \n",
       "0       NaN            NaN      1607.0  \n",
       "1       NaN            NaN      1619.0  \n",
       "2       NaN            NaN      1660.0  \n",
       "3       NaN            NaN      1633.0  \n",
       "4       NaN            NaN      1520.0  "
      ]
     },
     "execution_count": 213,
     "metadata": {},
     "output_type": "execute_result"
    }
   ],
   "source": [
    "dataset.head()"
   ]
  },
  {
   "cell_type": "code",
   "execution_count": 214,
   "metadata": {},
   "outputs": [
    {
     "data": {
      "text/plain": [
       "['SOLAR', 'SOLAR PV', 'SOLAR THERMAL']"
      ]
     },
     "execution_count": 214,
     "metadata": {},
     "output_type": "execute_result"
    }
   ],
   "source": [
    "missing_cols = [col for col in dataset.columns if dataset[col].isna().any() == True]\n",
    "missing_cols"
   ]
  },
  {
   "cell_type": "code",
   "execution_count": 215,
   "metadata": {},
   "outputs": [
    {
     "name": "stdout",
     "output_type": "stream",
     "text": [
      "The ratio of missing value at col  SOLAR  is:  0.6644176136363636\n",
      "The ratio of missing value at col  SOLAR PV  is:  0.33558238636363635\n",
      "The ratio of missing value at col  SOLAR THERMAL  is:  0.33558238636363635\n"
     ]
    }
   ],
   "source": [
    "for i in missing_cols:\n",
    "    print('The ratio of missing value at col ', i, ' is: ', dataset[i].isna().sum() / dataset.shape[0])"
   ]
  },
  {
   "cell_type": "code",
   "execution_count": 216,
   "metadata": {},
   "outputs": [],
   "source": [
    "#Dropping the SOLAR because more than 65 percent of it is NaN"
   ]
  },
  {
   "cell_type": "code",
   "execution_count": 231,
   "metadata": {},
   "outputs": [],
   "source": [
    "dataset.drop('SOLAR', axis=1, inplace=True)"
   ]
  },
  {
   "cell_type": "code",
   "execution_count": 232,
   "metadata": {},
   "outputs": [
    {
     "data": {
      "text/html": [
       "<div>\n",
       "<style scoped>\n",
       "    .dataframe tbody tr th:only-of-type {\n",
       "        vertical-align: middle;\n",
       "    }\n",
       "\n",
       "    .dataframe tbody tr th {\n",
       "        vertical-align: top;\n",
       "    }\n",
       "\n",
       "    .dataframe thead th {\n",
       "        text-align: right;\n",
       "    }\n",
       "</style>\n",
       "<table border=\"1\" class=\"dataframe\">\n",
       "  <thead>\n",
       "    <tr style=\"text-align: right;\">\n",
       "      <th></th>\n",
       "      <th>TIMESTAMP</th>\n",
       "      <th>BIOGAS</th>\n",
       "      <th>BIOMASS</th>\n",
       "      <th>GEOTHERMAL</th>\n",
       "      <th>Hour</th>\n",
       "      <th>SMALL HYDRO</th>\n",
       "      <th>SOLAR PV</th>\n",
       "      <th>SOLAR THERMAL</th>\n",
       "      <th>WIND TOTAL</th>\n",
       "    </tr>\n",
       "  </thead>\n",
       "  <tbody>\n",
       "    <tr>\n",
       "      <th>0</th>\n",
       "      <td>2011-07-21 00:00:00</td>\n",
       "      <td>177.0</td>\n",
       "      <td>372.0</td>\n",
       "      <td>984.0</td>\n",
       "      <td>1.0</td>\n",
       "      <td>516.0</td>\n",
       "      <td>NaN</td>\n",
       "      <td>NaN</td>\n",
       "      <td>1607.0</td>\n",
       "    </tr>\n",
       "    <tr>\n",
       "      <th>1</th>\n",
       "      <td>2011-07-21 01:00:00</td>\n",
       "      <td>176.0</td>\n",
       "      <td>373.0</td>\n",
       "      <td>984.0</td>\n",
       "      <td>2.0</td>\n",
       "      <td>509.0</td>\n",
       "      <td>NaN</td>\n",
       "      <td>NaN</td>\n",
       "      <td>1619.0</td>\n",
       "    </tr>\n",
       "    <tr>\n",
       "      <th>2</th>\n",
       "      <td>2011-07-21 02:00:00</td>\n",
       "      <td>177.0</td>\n",
       "      <td>371.0</td>\n",
       "      <td>985.0</td>\n",
       "      <td>3.0</td>\n",
       "      <td>506.0</td>\n",
       "      <td>NaN</td>\n",
       "      <td>NaN</td>\n",
       "      <td>1660.0</td>\n",
       "    </tr>\n",
       "    <tr>\n",
       "      <th>3</th>\n",
       "      <td>2011-07-21 03:00:00</td>\n",
       "      <td>177.0</td>\n",
       "      <td>374.0</td>\n",
       "      <td>985.0</td>\n",
       "      <td>4.0</td>\n",
       "      <td>504.0</td>\n",
       "      <td>NaN</td>\n",
       "      <td>NaN</td>\n",
       "      <td>1633.0</td>\n",
       "    </tr>\n",
       "    <tr>\n",
       "      <th>4</th>\n",
       "      <td>2011-07-21 04:00:00</td>\n",
       "      <td>177.0</td>\n",
       "      <td>377.0</td>\n",
       "      <td>984.0</td>\n",
       "      <td>5.0</td>\n",
       "      <td>508.0</td>\n",
       "      <td>NaN</td>\n",
       "      <td>NaN</td>\n",
       "      <td>1520.0</td>\n",
       "    </tr>\n",
       "  </tbody>\n",
       "</table>\n",
       "</div>"
      ],
      "text/plain": [
       "             TIMESTAMP  BIOGAS  BIOMASS  GEOTHERMAL  Hour  SMALL HYDRO  \\\n",
       "0  2011-07-21 00:00:00   177.0    372.0       984.0   1.0        516.0   \n",
       "1  2011-07-21 01:00:00   176.0    373.0       984.0   2.0        509.0   \n",
       "2  2011-07-21 02:00:00   177.0    371.0       985.0   3.0        506.0   \n",
       "3  2011-07-21 03:00:00   177.0    374.0       985.0   4.0        504.0   \n",
       "4  2011-07-21 04:00:00   177.0    377.0       984.0   5.0        508.0   \n",
       "\n",
       "   SOLAR PV  SOLAR THERMAL  WIND TOTAL  \n",
       "0       NaN            NaN      1607.0  \n",
       "1       NaN            NaN      1619.0  \n",
       "2       NaN            NaN      1660.0  \n",
       "3       NaN            NaN      1633.0  \n",
       "4       NaN            NaN      1520.0  "
      ]
     },
     "execution_count": 232,
     "metadata": {},
     "output_type": "execute_result"
    }
   ],
   "source": [
    "dataset.head()\n",
    "\n",
    "dataset.head()"
   ]
  },
  {
   "cell_type": "code",
   "execution_count": 320,
   "metadata": {},
   "outputs": [],
   "source": [
    "from sklearn.impute import SimpleImputer\n",
    "imp_mean = SimpleImputer(missing_values=np.nan, strategy='mean')"
   ]
  },
  {
   "cell_type": "code",
   "execution_count": 321,
   "metadata": {},
   "outputs": [],
   "source": [
    "updated_dataset = pd.DataFrame(imp_mean.fit_transform(dataset.iloc[:, 1:]))"
   ]
  },
  {
   "cell_type": "code",
   "execution_count": 322,
   "metadata": {},
   "outputs": [
    {
     "data": {
      "text/html": [
       "<div>\n",
       "<style scoped>\n",
       "    .dataframe tbody tr th:only-of-type {\n",
       "        vertical-align: middle;\n",
       "    }\n",
       "\n",
       "    .dataframe tbody tr th {\n",
       "        vertical-align: top;\n",
       "    }\n",
       "\n",
       "    .dataframe thead th {\n",
       "        text-align: right;\n",
       "    }\n",
       "</style>\n",
       "<table border=\"1\" class=\"dataframe\">\n",
       "  <thead>\n",
       "    <tr style=\"text-align: right;\">\n",
       "      <th></th>\n",
       "      <th>0</th>\n",
       "      <th>1</th>\n",
       "      <th>2</th>\n",
       "      <th>3</th>\n",
       "      <th>4</th>\n",
       "      <th>5</th>\n",
       "      <th>6</th>\n",
       "      <th>7</th>\n",
       "    </tr>\n",
       "  </thead>\n",
       "  <tbody>\n",
       "    <tr>\n",
       "      <th>0</th>\n",
       "      <td>177.0</td>\n",
       "      <td>372.0</td>\n",
       "      <td>984.0</td>\n",
       "      <td>1.0</td>\n",
       "      <td>516.0</td>\n",
       "      <td>1647.195706</td>\n",
       "      <td>117.254521</td>\n",
       "      <td>1607.0</td>\n",
       "    </tr>\n",
       "    <tr>\n",
       "      <th>1</th>\n",
       "      <td>176.0</td>\n",
       "      <td>373.0</td>\n",
       "      <td>984.0</td>\n",
       "      <td>2.0</td>\n",
       "      <td>509.0</td>\n",
       "      <td>1647.195706</td>\n",
       "      <td>117.254521</td>\n",
       "      <td>1619.0</td>\n",
       "    </tr>\n",
       "    <tr>\n",
       "      <th>2</th>\n",
       "      <td>177.0</td>\n",
       "      <td>371.0</td>\n",
       "      <td>985.0</td>\n",
       "      <td>3.0</td>\n",
       "      <td>506.0</td>\n",
       "      <td>1647.195706</td>\n",
       "      <td>117.254521</td>\n",
       "      <td>1660.0</td>\n",
       "    </tr>\n",
       "    <tr>\n",
       "      <th>3</th>\n",
       "      <td>177.0</td>\n",
       "      <td>374.0</td>\n",
       "      <td>985.0</td>\n",
       "      <td>4.0</td>\n",
       "      <td>504.0</td>\n",
       "      <td>1647.195706</td>\n",
       "      <td>117.254521</td>\n",
       "      <td>1633.0</td>\n",
       "    </tr>\n",
       "    <tr>\n",
       "      <th>4</th>\n",
       "      <td>177.0</td>\n",
       "      <td>377.0</td>\n",
       "      <td>984.0</td>\n",
       "      <td>5.0</td>\n",
       "      <td>508.0</td>\n",
       "      <td>1647.195706</td>\n",
       "      <td>117.254521</td>\n",
       "      <td>1520.0</td>\n",
       "    </tr>\n",
       "  </tbody>\n",
       "</table>\n",
       "</div>"
      ],
      "text/plain": [
       "       0      1      2    3      4            5           6       7\n",
       "0  177.0  372.0  984.0  1.0  516.0  1647.195706  117.254521  1607.0\n",
       "1  176.0  373.0  984.0  2.0  509.0  1647.195706  117.254521  1619.0\n",
       "2  177.0  371.0  985.0  3.0  506.0  1647.195706  117.254521  1660.0\n",
       "3  177.0  374.0  985.0  4.0  504.0  1647.195706  117.254521  1633.0\n",
       "4  177.0  377.0  984.0  5.0  508.0  1647.195706  117.254521  1520.0"
      ]
     },
     "execution_count": 322,
     "metadata": {},
     "output_type": "execute_result"
    }
   ],
   "source": [
    "updated_dataset.head()"
   ]
  },
  {
   "cell_type": "code",
   "execution_count": 323,
   "metadata": {},
   "outputs": [],
   "source": [
    "#dataset = pd.read_csv(\"cali_renaw.csv\")"
   ]
  },
  {
   "cell_type": "code",
   "execution_count": 324,
   "metadata": {},
   "outputs": [],
   "source": [
    "updated_dataset.insert(0, 'TIMESTAMP', dataset['TIMESTAMP'])"
   ]
  },
  {
   "cell_type": "code",
   "execution_count": 325,
   "metadata": {},
   "outputs": [
    {
     "data": {
      "text/plain": [
       "pandas.core.frame.DataFrame"
      ]
     },
     "execution_count": 325,
     "metadata": {},
     "output_type": "execute_result"
    }
   ],
   "source": [
    "updated_dataset.columns = dataset.columns\n",
    "updated_dataset.index = dataset.index\n",
    "type(updated_dataset)"
   ]
  },
  {
   "cell_type": "code",
   "execution_count": 326,
   "metadata": {},
   "outputs": [
    {
     "data": {
      "text/html": [
       "<div>\n",
       "<style scoped>\n",
       "    .dataframe tbody tr th:only-of-type {\n",
       "        vertical-align: middle;\n",
       "    }\n",
       "\n",
       "    .dataframe tbody tr th {\n",
       "        vertical-align: top;\n",
       "    }\n",
       "\n",
       "    .dataframe thead th {\n",
       "        text-align: right;\n",
       "    }\n",
       "</style>\n",
       "<table border=\"1\" class=\"dataframe\">\n",
       "  <thead>\n",
       "    <tr style=\"text-align: right;\">\n",
       "      <th></th>\n",
       "      <th>TIMESTAMP</th>\n",
       "      <th>BIOGAS</th>\n",
       "      <th>BIOMASS</th>\n",
       "      <th>GEOTHERMAL</th>\n",
       "      <th>Hour</th>\n",
       "      <th>SMALL HYDRO</th>\n",
       "      <th>SOLAR</th>\n",
       "      <th>SOLAR PV</th>\n",
       "      <th>SOLAR THERMAL</th>\n",
       "      <th>WIND TOTAL</th>\n",
       "    </tr>\n",
       "  </thead>\n",
       "  <tbody>\n",
       "    <tr>\n",
       "      <th>0</th>\n",
       "      <td>2010-04-20 00:00:00</td>\n",
       "      <td>170.0</td>\n",
       "      <td>323.0</td>\n",
       "      <td>1056.0</td>\n",
       "      <td>1.0</td>\n",
       "      <td>250.0</td>\n",
       "      <td>0.0</td>\n",
       "      <td>1647.195706</td>\n",
       "      <td>117.254521</td>\n",
       "      <td>632.0</td>\n",
       "    </tr>\n",
       "    <tr>\n",
       "      <th>1</th>\n",
       "      <td>2010-04-20 01:00:00</td>\n",
       "      <td>169.0</td>\n",
       "      <td>318.0</td>\n",
       "      <td>1055.0</td>\n",
       "      <td>2.0</td>\n",
       "      <td>245.0</td>\n",
       "      <td>0.0</td>\n",
       "      <td>1647.195706</td>\n",
       "      <td>117.254521</td>\n",
       "      <td>632.0</td>\n",
       "    </tr>\n",
       "    <tr>\n",
       "      <th>2</th>\n",
       "      <td>2010-04-20 02:00:00</td>\n",
       "      <td>168.0</td>\n",
       "      <td>316.0</td>\n",
       "      <td>1058.0</td>\n",
       "      <td>3.0</td>\n",
       "      <td>240.0</td>\n",
       "      <td>0.0</td>\n",
       "      <td>1647.195706</td>\n",
       "      <td>117.254521</td>\n",
       "      <td>677.0</td>\n",
       "    </tr>\n",
       "    <tr>\n",
       "      <th>3</th>\n",
       "      <td>NaN</td>\n",
       "      <td>507.0</td>\n",
       "      <td>957.0</td>\n",
       "      <td>3169.0</td>\n",
       "      <td>6.0</td>\n",
       "      <td>735.0</td>\n",
       "      <td>0.0</td>\n",
       "      <td>4941.587119</td>\n",
       "      <td>351.763562</td>\n",
       "      <td>1941.0</td>\n",
       "    </tr>\n",
       "  </tbody>\n",
       "</table>\n",
       "</div>"
      ],
      "text/plain": [
       "             TIMESTAMP  BIOGAS  BIOMASS  GEOTHERMAL  Hour  SMALL HYDRO  SOLAR  \\\n",
       "0  2010-04-20 00:00:00   170.0    323.0      1056.0   1.0        250.0    0.0   \n",
       "1  2010-04-20 01:00:00   169.0    318.0      1055.0   2.0        245.0    0.0   \n",
       "2  2010-04-20 02:00:00   168.0    316.0      1058.0   3.0        240.0    0.0   \n",
       "3                  NaN   507.0    957.0      3169.0   6.0        735.0    0.0   \n",
       "\n",
       "      SOLAR PV  SOLAR THERMAL  WIND TOTAL  \n",
       "0  1647.195706     117.254521       632.0  \n",
       "1  1647.195706     117.254521       632.0  \n",
       "2  1647.195706     117.254521       677.0  \n",
       "3  4941.587119     351.763562      1941.0  "
      ]
     },
     "execution_count": 326,
     "metadata": {},
     "output_type": "execute_result"
    }
   ],
   "source": [
    "denemed.append(denemed.iloc[:, 1:].sum(axis = 0), ignore_index = True)"
   ]
  },
  {
   "cell_type": "code",
   "execution_count": 327,
   "metadata": {
    "scrolled": true
   },
   "outputs": [],
   "source": [
    "updated_dataset = updated_dataset.sort_values(['TIMESTAMP'])"
   ]
  },
  {
   "cell_type": "code",
   "execution_count": 328,
   "metadata": {},
   "outputs": [
    {
     "data": {
      "text/plain": [
       "(24, 9)"
      ]
     },
     "execution_count": 328,
     "metadata": {},
     "output_type": "execute_result"
    }
   ],
   "source": [
    "X = updated_dataset.iloc[0:168, :]\n",
    "X.shape\n",
    "y = updated_dataset.iloc[168:192, : ]\n",
    "y.shape"
   ]
  },
  {
   "cell_type": "code",
   "execution_count": 329,
   "metadata": {},
   "outputs": [],
   "source": [
    "first = 0\n",
    "second = 24\n",
    "for i in range(X.shape[0]):\n",
    "    if i % 24 == 0:\n",
    "        X = X.append(X.iloc[first:second, 1:].sum(axis = 0), ignore_index = True)\n",
    "        second += 24\n",
    "        first += 24\n",
    "        \n"
   ]
  },
  {
   "cell_type": "code",
   "execution_count": 330,
   "metadata": {},
   "outputs": [],
   "source": [
    "y = y.append(y.iloc[0:24, 1:].sum(axis = 0), ignore_index = True)"
   ]
  },
  {
   "cell_type": "code",
   "execution_count": 331,
   "metadata": {},
   "outputs": [
    {
     "data": {
      "text/html": [
       "<div>\n",
       "<style scoped>\n",
       "    .dataframe tbody tr th:only-of-type {\n",
       "        vertical-align: middle;\n",
       "    }\n",
       "\n",
       "    .dataframe tbody tr th {\n",
       "        vertical-align: top;\n",
       "    }\n",
       "\n",
       "    .dataframe thead th {\n",
       "        text-align: right;\n",
       "    }\n",
       "</style>\n",
       "<table border=\"1\" class=\"dataframe\">\n",
       "  <thead>\n",
       "    <tr style=\"text-align: right;\">\n",
       "      <th></th>\n",
       "      <th>TIMESTAMP</th>\n",
       "      <th>BIOGAS</th>\n",
       "      <th>BIOMASS</th>\n",
       "      <th>GEOTHERMAL</th>\n",
       "      <th>Hour</th>\n",
       "      <th>SMALL HYDRO</th>\n",
       "      <th>SOLAR PV</th>\n",
       "      <th>SOLAR THERMAL</th>\n",
       "      <th>WIND TOTAL</th>\n",
       "    </tr>\n",
       "  </thead>\n",
       "  <tbody>\n",
       "    <tr>\n",
       "      <th>24</th>\n",
       "      <td>NaN</td>\n",
       "      <td>4058.0</td>\n",
       "      <td>6953.0</td>\n",
       "      <td>24269.0</td>\n",
       "      <td>300.0</td>\n",
       "      <td>6940.0</td>\n",
       "      <td>39532.696954</td>\n",
       "      <td>2814.108498</td>\n",
       "      <td>29248.0</td>\n",
       "    </tr>\n",
       "  </tbody>\n",
       "</table>\n",
       "</div>"
      ],
      "text/plain": [
       "   TIMESTAMP  BIOGAS  BIOMASS  GEOTHERMAL   Hour  SMALL HYDRO      SOLAR PV  \\\n",
       "24       NaN  4058.0   6953.0     24269.0  300.0       6940.0  39532.696954   \n",
       "\n",
       "    SOLAR THERMAL  WIND TOTAL  \n",
       "24    2814.108498     29248.0  "
      ]
     },
     "execution_count": 331,
     "metadata": {},
     "output_type": "execute_result"
    }
   ],
   "source": [
    "y.tail(1)"
   ]
  },
  {
   "cell_type": "code",
   "execution_count": 347,
   "metadata": {},
   "outputs": [],
   "source": [
    "X = pd.DataFrame(X.tail(7))\n",
    "X = X.set_index(pd.Index([1,2,3,4,5,6,7]))\n",
    "X['TIMESTAMP'] = np.arange(1,8)\n",
    "y = pd.DataFrame(y.tail(1))\n",
    "y = y.set_index(pd.Index([1]))\n",
    "y['TIMESTAMP'] = 8"
   ]
  },
  {
   "cell_type": "code",
   "execution_count": 375,
   "metadata": {},
   "outputs": [
    {
     "data": {
      "text/html": [
       "<div>\n",
       "<style scoped>\n",
       "    .dataframe tbody tr th:only-of-type {\n",
       "        vertical-align: middle;\n",
       "    }\n",
       "\n",
       "    .dataframe tbody tr th {\n",
       "        vertical-align: top;\n",
       "    }\n",
       "\n",
       "    .dataframe thead th {\n",
       "        text-align: right;\n",
       "    }\n",
       "</style>\n",
       "<table border=\"1\" class=\"dataframe\">\n",
       "  <thead>\n",
       "    <tr style=\"text-align: right;\">\n",
       "      <th></th>\n",
       "      <th>TIMESTAMP</th>\n",
       "      <th>BIOGAS</th>\n",
       "      <th>BIOMASS</th>\n",
       "      <th>GEOTHERMAL</th>\n",
       "      <th>SMALL HYDRO</th>\n",
       "      <th>WIND TOTAL</th>\n",
       "    </tr>\n",
       "  </thead>\n",
       "  <tbody>\n",
       "    <tr>\n",
       "      <th>1</th>\n",
       "      <td>1</td>\n",
       "      <td>3803.0</td>\n",
       "      <td>7491.0</td>\n",
       "      <td>25594.0</td>\n",
       "      <td>6571.0</td>\n",
       "      <td>23746.0</td>\n",
       "    </tr>\n",
       "    <tr>\n",
       "      <th>2</th>\n",
       "      <td>2</td>\n",
       "      <td>3996.0</td>\n",
       "      <td>6797.0</td>\n",
       "      <td>25731.0</td>\n",
       "      <td>7014.0</td>\n",
       "      <td>20842.0</td>\n",
       "    </tr>\n",
       "    <tr>\n",
       "      <th>3</th>\n",
       "      <td>3</td>\n",
       "      <td>4158.0</td>\n",
       "      <td>6907.0</td>\n",
       "      <td>25811.0</td>\n",
       "      <td>6921.0</td>\n",
       "      <td>8696.0</td>\n",
       "    </tr>\n",
       "    <tr>\n",
       "      <th>4</th>\n",
       "      <td>4</td>\n",
       "      <td>4170.0</td>\n",
       "      <td>7508.0</td>\n",
       "      <td>25327.0</td>\n",
       "      <td>7089.0</td>\n",
       "      <td>16501.0</td>\n",
       "    </tr>\n",
       "    <tr>\n",
       "      <th>5</th>\n",
       "      <td>5</td>\n",
       "      <td>4278.0</td>\n",
       "      <td>7146.0</td>\n",
       "      <td>25203.0</td>\n",
       "      <td>6987.0</td>\n",
       "      <td>17063.0</td>\n",
       "    </tr>\n",
       "    <tr>\n",
       "      <th>6</th>\n",
       "      <td>6</td>\n",
       "      <td>4081.0</td>\n",
       "      <td>6947.0</td>\n",
       "      <td>25316.0</td>\n",
       "      <td>7130.0</td>\n",
       "      <td>9311.0</td>\n",
       "    </tr>\n",
       "    <tr>\n",
       "      <th>7</th>\n",
       "      <td>7</td>\n",
       "      <td>4149.0</td>\n",
       "      <td>6691.0</td>\n",
       "      <td>25388.0</td>\n",
       "      <td>6943.0</td>\n",
       "      <td>14664.0</td>\n",
       "    </tr>\n",
       "  </tbody>\n",
       "</table>\n",
       "</div>"
      ],
      "text/plain": [
       "   TIMESTAMP  BIOGAS  BIOMASS  GEOTHERMAL  SMALL HYDRO  WIND TOTAL\n",
       "1          1  3803.0   7491.0     25594.0       6571.0     23746.0\n",
       "2          2  3996.0   6797.0     25731.0       7014.0     20842.0\n",
       "3          3  4158.0   6907.0     25811.0       6921.0      8696.0\n",
       "4          4  4170.0   7508.0     25327.0       7089.0     16501.0\n",
       "5          5  4278.0   7146.0     25203.0       6987.0     17063.0\n",
       "6          6  4081.0   6947.0     25316.0       7130.0      9311.0\n",
       "7          7  4149.0   6691.0     25388.0       6943.0     14664.0"
      ]
     },
     "execution_count": 375,
     "metadata": {},
     "output_type": "execute_result"
    }
   ],
   "source": [
    "#Dropping out Hour and solarthremal column has it has no change. It creates nan values in cor matrix.\n",
    "X.drop('SOLAR THERMAL', axis = 1, inplace=True)\n",
    "X"
   ]
  },
  {
   "cell_type": "code",
   "execution_count": 376,
   "metadata": {},
   "outputs": [
    {
     "data": {
      "text/html": [
       "<div>\n",
       "<style scoped>\n",
       "    .dataframe tbody tr th:only-of-type {\n",
       "        vertical-align: middle;\n",
       "    }\n",
       "\n",
       "    .dataframe tbody tr th {\n",
       "        vertical-align: top;\n",
       "    }\n",
       "\n",
       "    .dataframe thead th {\n",
       "        text-align: right;\n",
       "    }\n",
       "</style>\n",
       "<table border=\"1\" class=\"dataframe\">\n",
       "  <thead>\n",
       "    <tr style=\"text-align: right;\">\n",
       "      <th></th>\n",
       "      <th>TIMESTAMP</th>\n",
       "      <th>BIOGAS</th>\n",
       "      <th>BIOMASS</th>\n",
       "      <th>GEOTHERMAL</th>\n",
       "      <th>Hour</th>\n",
       "      <th>SMALL HYDRO</th>\n",
       "      <th>SOLAR PV</th>\n",
       "      <th>SOLAR THERMAL</th>\n",
       "      <th>WIND TOTAL</th>\n",
       "    </tr>\n",
       "  </thead>\n",
       "  <tbody>\n",
       "    <tr>\n",
       "      <th>1</th>\n",
       "      <td>8</td>\n",
       "      <td>4058.0</td>\n",
       "      <td>6953.0</td>\n",
       "      <td>24269.0</td>\n",
       "      <td>300.0</td>\n",
       "      <td>6940.0</td>\n",
       "      <td>39532.696954</td>\n",
       "      <td>2814.108498</td>\n",
       "      <td>29248.0</td>\n",
       "    </tr>\n",
       "  </tbody>\n",
       "</table>\n",
       "</div>"
      ],
      "text/plain": [
       "   TIMESTAMP  BIOGAS  BIOMASS  GEOTHERMAL   Hour  SMALL HYDRO      SOLAR PV  \\\n",
       "1          8  4058.0   6953.0     24269.0  300.0       6940.0  39532.696954   \n",
       "\n",
       "   SOLAR THERMAL  WIND TOTAL  \n",
       "1    2814.108498     29248.0  "
      ]
     },
     "execution_count": 376,
     "metadata": {},
     "output_type": "execute_result"
    }
   ],
   "source": [
    "y"
   ]
  },
  {
   "cell_type": "code",
   "execution_count": 377,
   "metadata": {},
   "outputs": [
    {
     "name": "stdout",
     "output_type": "stream",
     "text": [
      "             TIMESTAMP  BIOGAS  BIOMASS  GEOTHERMAL  SMALL HYDRO  WIND TOTAL\n",
      "TIMESTAMP         1.00    0.67    -0.44       -0.69         0.59       -0.58\n",
      "BIOGAS            0.67    1.00    -0.26       -0.48         0.69       -0.58\n",
      "BIOMASS          -0.44   -0.26     1.00       -0.24        -0.36        0.44\n",
      "GEOTHERMAL       -0.69   -0.48    -0.24        1.00        -0.38        0.07\n",
      "SMALL HYDRO       0.59    0.69    -0.36       -0.38         1.00       -0.57\n",
      "WIND TOTAL       -0.58   -0.58     0.44        0.07        -0.57        1.00\n"
     ]
    },
    {
     "data": {
      "image/png": "[encoded data removed]",
      "text/plain": [
       "<Figure size 1152x576 with 2 Axes>"
      ]
     },
     "metadata": {
      "needs_background": "light"
     },
     "output_type": "display_data"
    }
   ],
   "source": [
    "import seaborn as sns\n",
    "import matplotlib.pyplot as plt\n",
    "\n",
    "\n",
    "correlation_matrix = X.corr().round(2)\n",
    "plt.figure(figsize = (16,8))\n",
    "print(correlation_matrix)\n",
    "sns.heatmap(data=correlation_matrix, annot=True, linewidths=.5)\n",
    "plt.show()\n",
    "%matplotlib inline"
   ]
  },
  {
   "cell_type": "code",
   "execution_count": null,
   "metadata": {},
   "outputs": [],
   "source": []
  },
  {
   "cell_type": "code",
   "execution_count": null,
   "metadata": {},
   "outputs": [],
   "source": []
  },
  {
   "cell_type": "code",
   "execution_count": null,
   "metadata": {},
   "outputs": [],
   "source": []
  }
 ],
 "metadata": {
  "kernelspec": {
   "display_name": "Python 3",
   "language": "python",
   "name": "python3"
  },
  "language_info": {
   "codemirror_mode": {
    "name": "ipython",
    "version": 3
   },
   "file_extension": ".py",
   "mimetype": "text/x-python",
   "name": "python",
   "nbconvert_exporter": "python",
   "pygments_lexer": "ipython3",
   "version": "3.7.0"
  }
 },
 "nbformat": 4,
 "nbformat_minor": 2
}
