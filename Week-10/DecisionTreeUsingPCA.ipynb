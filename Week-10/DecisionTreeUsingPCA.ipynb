{
 "cells": [
  {
   "cell_type": "code",
   "execution_count": 5,
   "metadata": {},
   "outputs": [],
   "source": [
    "import numpy as np\n",
    "from sklearn.decomposition import PCA\n",
    "from sklearn.preprocessing import StandardScaler\n",
    "from sklearn.metrics import accuracy_score\n",
    "from sklearn.tree import DecisionTreeClassifier\n",
    "from sklearn import datasets\n",
    "from sklearn import metrics\n",
    "from sklearn.model_selection import train_test_split\n",
    "from sklearn.pipeline import make_pipeline\n",
    "import matplotlib.pyplot as plt\n",
    "from sklearn.neighbors import KNeighborsClassifier\n",
    "from sklearn.model_selection import cross_val_score\n",
    "from sklearn.metrics import classification_report"
   ]
  },
  {
   "cell_type": "code",
   "execution_count": 2,
   "metadata": {},
   "outputs": [],
   "source": [
    "mnist_dataset = datasets.fetch_openml('mnist_784')\n",
    "\n",
    "random_state = 0\n",
    "\n",
    "\n",
    "X = mnist_dataset.data\n",
    "y = mnist_dataset.target\n",
    "X_train, X_test, y_train, y_test = train_test_split(X, y, test_size = 0.3)"
   ]
  },
  {
   "cell_type": "code",
   "execution_count": 6,
   "metadata": {},
   "outputs": [],
   "source": [
    "# Reduce dimension to 2 with PCA\n",
    "pca = make_pipeline(StandardScaler(),\n",
    "                    PCA(0.95))\n",
    "\n",
    "# Use a nearest neighbor classifier to evaluate the methods\n",
    "decision_tree_classifier = DecisionTreeClassifier(max_depth=10, min_samples_split=5)\n",
    "\n",
    "dim_reduction_methods = [('PCA', pca)]\n",
    "        \n",
    "\n",
    "dataset_columns = np.array(['zero','one','two','three','four','five','six','seven','eight','nine'])\n"
   ]
  },
  {
   "cell_type": "code",
   "execution_count": null,
   "metadata": {},
   "outputs": [],
   "source": [
    "for i, (name, model) in enumerate(dim_reduction_methods):\n",
    "    # Fit the method's model\n",
    "    model.fit(X_train, y_train)\n",
    "\n",
    "    # Fit a decision tree classifier on the training set\n",
    "    decision_tree_classifier.fit(model.transform(X_train), y_train)\n",
    "\n",
    "    accuracy_on_tranining = accuracy_score(decision_tree_classifier.predict(model.fit_transform(X_train)), y_train)\n",
    "    \n",
    "    \n",
    "    accuracy_on_testing = accuracy_score(decision_tree_classifier.predict(model.transform(X_test)), y_test)\n",
    "    \n",
    "    print('Training accuracy ', accuracy_on_tranining)\n",
    "    print('Testing accuracy ',  accuracy_on_testing)\n",
    "    \n",
    "    print(classification_report(y_test, prediction, target_names = dataset_columns))\n"
   ]
  },
  {
   "cell_type": "code",
   "execution_count": null,
   "metadata": {},
   "outputs": [],
   "source": [
    "print(classification_report(y_true,y_pred))"
   ]
  },
  {
   "cell_type": "code",
   "execution_count": null,
   "metadata": {},
   "outputs": [],
   "source": []
  }
 ],
 "metadata": {
  "kernelspec": {
   "display_name": "Python 3",
   "language": "python",
   "name": "python3"
  },
  "language_info": {
   "codemirror_mode": {
    "name": "ipython",
    "version": 3
   },
   "file_extension": ".py",
   "mimetype": "text/x-python",
   "name": "python",
   "nbconvert_exporter": "python",
   "pygments_lexer": "ipython3",
   "version": "3.7.0"
  }
 },
 "nbformat": 4,
 "nbformat_minor": 2
}
