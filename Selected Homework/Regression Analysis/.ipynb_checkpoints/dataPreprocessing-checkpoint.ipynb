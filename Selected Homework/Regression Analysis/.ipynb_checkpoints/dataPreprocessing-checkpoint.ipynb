{
 "cells": [
  {
   "cell_type": "code",
   "execution_count": 125,
   "metadata": {},
   "outputs": [
    {
     "name": "stdout",
     "output_type": "stream",
     "text": [
      "<class 'pandas.core.frame.DataFrame'>\n",
      "RangeIndex: 67584 entries, 0 to 67583\n",
      "Data columns (total 10 columns):\n",
      "TIMESTAMP        67584 non-null object\n",
      "BIOGAS           67584 non-null float64\n",
      "BIOMASS          67584 non-null float64\n",
      "GEOTHERMAL       67584 non-null float64\n",
      "Hour             67584 non-null float64\n",
      "SMALL HYDRO      67584 non-null float64\n",
      "SOLAR            22680 non-null float64\n",
      "SOLAR PV         44904 non-null float64\n",
      "SOLAR THERMAL    44904 non-null float64\n",
      "WIND TOTAL       67584 non-null float64\n",
      "dtypes: float64(9), object(1)\n",
      "memory usage: 5.2+ MB\n",
      "None\n"
     ]
    }
   ],
   "source": [
    "import pandas as pd\n",
    "import datetime\n",
    "import numpy as np\n",
    "\n",
    "dataset = pd.read_csv(\"cali_renaw.csv\")\n",
    "\n",
    "print(dataset.info())"
   ]
  },
  {
   "cell_type": "code",
   "execution_count": 126,
   "metadata": {},
   "outputs": [
    {
     "data": {
      "text/plain": [
       "0    2011-07-21 00:00:00\n",
       "1    2011-07-21 01:00:00\n",
       "2    2011-07-21 02:00:00\n",
       "3    2011-07-21 03:00:00\n",
       "4    2011-07-21 04:00:00\n",
       "Name: TIMESTAMP, dtype: object"
      ]
     },
     "execution_count": 126,
     "metadata": {},
     "output_type": "execute_result"
    }
   ],
   "source": [
    "dataset['TIMESTAMP'].head()"
   ]
  },
  {
   "cell_type": "code",
   "execution_count": 127,
   "metadata": {},
   "outputs": [],
   "source": [
    "dataset['TIMESTAMP'] =  pd.to_datetime(dataset['TIMESTAMP'],\n",
    "                              format='%Y-%m-%d %H:%M:%S')"
   ]
  },
  {
   "cell_type": "code",
   "execution_count": 128,
   "metadata": {},
   "outputs": [
    {
     "data": {
      "text/plain": [
       "0   2011-07-21 00:00:00\n",
       "1   2011-07-21 01:00:00\n",
       "2   2011-07-21 02:00:00\n",
       "3   2011-07-21 03:00:00\n",
       "4   2011-07-21 04:00:00\n",
       "Name: TIMESTAMP, dtype: datetime64[ns]"
      ]
     },
     "execution_count": 128,
     "metadata": {},
     "output_type": "execute_result"
    }
   ],
   "source": [
    "dataset['TIMESTAMP'].head()"
   ]
  },
  {
   "cell_type": "code",
   "execution_count": 129,
   "metadata": {},
   "outputs": [
    {
     "data": {
      "text/html": [
       "<div>\n",
       "<style scoped>\n",
       "    .dataframe tbody tr th:only-of-type {\n",
       "        vertical-align: middle;\n",
       "    }\n",
       "\n",
       "    .dataframe tbody tr th {\n",
       "        vertical-align: top;\n",
       "    }\n",
       "\n",
       "    .dataframe thead th {\n",
       "        text-align: right;\n",
       "    }\n",
       "</style>\n",
       "<table border=\"1\" class=\"dataframe\">\n",
       "  <thead>\n",
       "    <tr style=\"text-align: right;\">\n",
       "      <th></th>\n",
       "      <th>TIMESTAMP</th>\n",
       "      <th>BIOGAS</th>\n",
       "      <th>BIOMASS</th>\n",
       "      <th>GEOTHERMAL</th>\n",
       "      <th>Hour</th>\n",
       "      <th>SMALL HYDRO</th>\n",
       "      <th>SOLAR</th>\n",
       "      <th>SOLAR PV</th>\n",
       "      <th>SOLAR THERMAL</th>\n",
       "      <th>WIND TOTAL</th>\n",
       "    </tr>\n",
       "  </thead>\n",
       "  <tbody>\n",
       "    <tr>\n",
       "      <th>0</th>\n",
       "      <td>2011-07-21 00:00:00</td>\n",
       "      <td>177.0</td>\n",
       "      <td>372.0</td>\n",
       "      <td>984.0</td>\n",
       "      <td>1.0</td>\n",
       "      <td>516.0</td>\n",
       "      <td>0.0</td>\n",
       "      <td>NaN</td>\n",
       "      <td>NaN</td>\n",
       "      <td>1607.0</td>\n",
       "    </tr>\n",
       "    <tr>\n",
       "      <th>1</th>\n",
       "      <td>2011-07-21 01:00:00</td>\n",
       "      <td>176.0</td>\n",
       "      <td>373.0</td>\n",
       "      <td>984.0</td>\n",
       "      <td>2.0</td>\n",
       "      <td>509.0</td>\n",
       "      <td>0.0</td>\n",
       "      <td>NaN</td>\n",
       "      <td>NaN</td>\n",
       "      <td>1619.0</td>\n",
       "    </tr>\n",
       "    <tr>\n",
       "      <th>2</th>\n",
       "      <td>2011-07-21 02:00:00</td>\n",
       "      <td>177.0</td>\n",
       "      <td>371.0</td>\n",
       "      <td>985.0</td>\n",
       "      <td>3.0</td>\n",
       "      <td>506.0</td>\n",
       "      <td>0.0</td>\n",
       "      <td>NaN</td>\n",
       "      <td>NaN</td>\n",
       "      <td>1660.0</td>\n",
       "    </tr>\n",
       "    <tr>\n",
       "      <th>3</th>\n",
       "      <td>2011-07-21 03:00:00</td>\n",
       "      <td>177.0</td>\n",
       "      <td>374.0</td>\n",
       "      <td>985.0</td>\n",
       "      <td>4.0</td>\n",
       "      <td>504.0</td>\n",
       "      <td>0.0</td>\n",
       "      <td>NaN</td>\n",
       "      <td>NaN</td>\n",
       "      <td>1633.0</td>\n",
       "    </tr>\n",
       "    <tr>\n",
       "      <th>4</th>\n",
       "      <td>2011-07-21 04:00:00</td>\n",
       "      <td>177.0</td>\n",
       "      <td>377.0</td>\n",
       "      <td>984.0</td>\n",
       "      <td>5.0</td>\n",
       "      <td>508.0</td>\n",
       "      <td>0.0</td>\n",
       "      <td>NaN</td>\n",
       "      <td>NaN</td>\n",
       "      <td>1520.0</td>\n",
       "    </tr>\n",
       "  </tbody>\n",
       "</table>\n",
       "</div>"
      ],
      "text/plain": [
       "            TIMESTAMP  BIOGAS  BIOMASS  GEOTHERMAL  Hour  SMALL HYDRO  SOLAR  \\\n",
       "0 2011-07-21 00:00:00   177.0    372.0       984.0   1.0        516.0    0.0   \n",
       "1 2011-07-21 01:00:00   176.0    373.0       984.0   2.0        509.0    0.0   \n",
       "2 2011-07-21 02:00:00   177.0    371.0       985.0   3.0        506.0    0.0   \n",
       "3 2011-07-21 03:00:00   177.0    374.0       985.0   4.0        504.0    0.0   \n",
       "4 2011-07-21 04:00:00   177.0    377.0       984.0   5.0        508.0    0.0   \n",
       "\n",
       "   SOLAR PV  SOLAR THERMAL  WIND TOTAL  \n",
       "0       NaN            NaN      1607.0  \n",
       "1       NaN            NaN      1619.0  \n",
       "2       NaN            NaN      1660.0  \n",
       "3       NaN            NaN      1633.0  \n",
       "4       NaN            NaN      1520.0  "
      ]
     },
     "execution_count": 129,
     "metadata": {},
     "output_type": "execute_result"
    }
   ],
   "source": [
    "dataset.head()"
   ]
  },
  {
   "cell_type": "code",
   "execution_count": 130,
   "metadata": {},
   "outputs": [
    {
     "data": {
      "text/plain": [
       "['SOLAR', 'SOLAR PV', 'SOLAR THERMAL']"
      ]
     },
     "execution_count": 130,
     "metadata": {},
     "output_type": "execute_result"
    }
   ],
   "source": [
    "missing_cols = [col for col in dataset.columns if dataset[col].isna().any() == True]\n",
    "missing_cols"
   ]
  },
  {
   "cell_type": "code",
   "execution_count": 131,
   "metadata": {},
   "outputs": [
    {
     "name": "stdout",
     "output_type": "stream",
     "text": [
      "The ratio of missing value at col  SOLAR  is:  0.6644176136363636\n",
      "The ratio of missing value at col  SOLAR PV  is:  0.33558238636363635\n",
      "The ratio of missing value at col  SOLAR THERMAL  is:  0.33558238636363635\n"
     ]
    }
   ],
   "source": [
    "for i in missing_cols:\n",
    "    print('The ratio of missing value at col ', i, ' is: ', dataset[i].isna().sum() / dataset.shape[0])"
   ]
  },
  {
   "cell_type": "code",
   "execution_count": 132,
   "metadata": {},
   "outputs": [],
   "source": [
    "#Dropping the SOLAR because more than 65 percent of it is NaN"
   ]
  },
  {
   "cell_type": "code",
   "execution_count": 133,
   "metadata": {},
   "outputs": [],
   "source": [
    "dataset.drop('SOLAR', axis=1, inplace=True)"
   ]
  },
  {
   "cell_type": "code",
   "execution_count": 142,
   "metadata": {},
   "outputs": [
    {
     "data": {
      "text/html": [
       "<div>\n",
       "<style scoped>\n",
       "    .dataframe tbody tr th:only-of-type {\n",
       "        vertical-align: middle;\n",
       "    }\n",
       "\n",
       "    .dataframe tbody tr th {\n",
       "        vertical-align: top;\n",
       "    }\n",
       "\n",
       "    .dataframe thead th {\n",
       "        text-align: right;\n",
       "    }\n",
       "</style>\n",
       "<table border=\"1\" class=\"dataframe\">\n",
       "  <thead>\n",
       "    <tr style=\"text-align: right;\">\n",
       "      <th></th>\n",
       "      <th>TIMESTAMP</th>\n",
       "      <th>BIOGAS</th>\n",
       "      <th>BIOMASS</th>\n",
       "      <th>GEOTHERMAL</th>\n",
       "      <th>Hour</th>\n",
       "      <th>SMALL HYDRO</th>\n",
       "      <th>SOLAR</th>\n",
       "      <th>SOLAR PV</th>\n",
       "      <th>SOLAR THERMAL</th>\n",
       "      <th>WIND TOTAL</th>\n",
       "    </tr>\n",
       "  </thead>\n",
       "  <tbody>\n",
       "    <tr>\n",
       "      <th>0</th>\n",
       "      <td>2011-07-21 00:00:00</td>\n",
       "      <td>177.0</td>\n",
       "      <td>372.0</td>\n",
       "      <td>984.0</td>\n",
       "      <td>1.0</td>\n",
       "      <td>516.0</td>\n",
       "      <td>0.0</td>\n",
       "      <td>NaN</td>\n",
       "      <td>NaN</td>\n",
       "      <td>1607.0</td>\n",
       "    </tr>\n",
       "    <tr>\n",
       "      <th>1</th>\n",
       "      <td>2011-07-21 01:00:00</td>\n",
       "      <td>176.0</td>\n",
       "      <td>373.0</td>\n",
       "      <td>984.0</td>\n",
       "      <td>2.0</td>\n",
       "      <td>509.0</td>\n",
       "      <td>0.0</td>\n",
       "      <td>NaN</td>\n",
       "      <td>NaN</td>\n",
       "      <td>1619.0</td>\n",
       "    </tr>\n",
       "    <tr>\n",
       "      <th>2</th>\n",
       "      <td>2011-07-21 02:00:00</td>\n",
       "      <td>177.0</td>\n",
       "      <td>371.0</td>\n",
       "      <td>985.0</td>\n",
       "      <td>3.0</td>\n",
       "      <td>506.0</td>\n",
       "      <td>0.0</td>\n",
       "      <td>NaN</td>\n",
       "      <td>NaN</td>\n",
       "      <td>1660.0</td>\n",
       "    </tr>\n",
       "    <tr>\n",
       "      <th>3</th>\n",
       "      <td>2011-07-21 03:00:00</td>\n",
       "      <td>177.0</td>\n",
       "      <td>374.0</td>\n",
       "      <td>985.0</td>\n",
       "      <td>4.0</td>\n",
       "      <td>504.0</td>\n",
       "      <td>0.0</td>\n",
       "      <td>NaN</td>\n",
       "      <td>NaN</td>\n",
       "      <td>1633.0</td>\n",
       "    </tr>\n",
       "    <tr>\n",
       "      <th>4</th>\n",
       "      <td>2011-07-21 04:00:00</td>\n",
       "      <td>177.0</td>\n",
       "      <td>377.0</td>\n",
       "      <td>984.0</td>\n",
       "      <td>5.0</td>\n",
       "      <td>508.0</td>\n",
       "      <td>0.0</td>\n",
       "      <td>NaN</td>\n",
       "      <td>NaN</td>\n",
       "      <td>1520.0</td>\n",
       "    </tr>\n",
       "  </tbody>\n",
       "</table>\n",
       "</div>"
      ],
      "text/plain": [
       "             TIMESTAMP  BIOGAS  BIOMASS  GEOTHERMAL  Hour  SMALL HYDRO  SOLAR  \\\n",
       "0  2011-07-21 00:00:00   177.0    372.0       984.0   1.0        516.0    0.0   \n",
       "1  2011-07-21 01:00:00   176.0    373.0       984.0   2.0        509.0    0.0   \n",
       "2  2011-07-21 02:00:00   177.0    371.0       985.0   3.0        506.0    0.0   \n",
       "3  2011-07-21 03:00:00   177.0    374.0       985.0   4.0        504.0    0.0   \n",
       "4  2011-07-21 04:00:00   177.0    377.0       984.0   5.0        508.0    0.0   \n",
       "\n",
       "   SOLAR PV  SOLAR THERMAL  WIND TOTAL  \n",
       "0       NaN            NaN      1607.0  \n",
       "1       NaN            NaN      1619.0  \n",
       "2       NaN            NaN      1660.0  \n",
       "3       NaN            NaN      1633.0  \n",
       "4       NaN            NaN      1520.0  "
      ]
     },
     "execution_count": 142,
     "metadata": {},
     "output_type": "execute_result"
    }
   ],
   "source": [
    "dataset.head()"
   ]
  },
  {
   "cell_type": "code",
   "execution_count": 143,
   "metadata": {},
   "outputs": [],
   "source": [
    "from sklearn.impute import SimpleImputer\n",
    "imp_mean = SimpleImputer(missing_values=np.nan, strategy='mean')"
   ]
  },
  {
   "cell_type": "code",
   "execution_count": 144,
   "metadata": {},
   "outputs": [],
   "source": [
    "updated_dataset = pd.DataFrame(imp_mean.fit_transform(dataset.iloc[:, 1:]))"
   ]
  },
  {
   "cell_type": "code",
   "execution_count": 145,
   "metadata": {},
   "outputs": [
    {
     "data": {
      "text/html": [
       "<div>\n",
       "<style scoped>\n",
       "    .dataframe tbody tr th:only-of-type {\n",
       "        vertical-align: middle;\n",
       "    }\n",
       "\n",
       "    .dataframe tbody tr th {\n",
       "        vertical-align: top;\n",
       "    }\n",
       "\n",
       "    .dataframe thead th {\n",
       "        text-align: right;\n",
       "    }\n",
       "</style>\n",
       "<table border=\"1\" class=\"dataframe\">\n",
       "  <thead>\n",
       "    <tr style=\"text-align: right;\">\n",
       "      <th></th>\n",
       "      <th>0</th>\n",
       "      <th>1</th>\n",
       "      <th>2</th>\n",
       "      <th>3</th>\n",
       "      <th>4</th>\n",
       "      <th>5</th>\n",
       "      <th>6</th>\n",
       "      <th>7</th>\n",
       "      <th>8</th>\n",
       "    </tr>\n",
       "  </thead>\n",
       "  <tbody>\n",
       "    <tr>\n",
       "      <th>0</th>\n",
       "      <td>177.0</td>\n",
       "      <td>372.0</td>\n",
       "      <td>984.0</td>\n",
       "      <td>1.0</td>\n",
       "      <td>516.0</td>\n",
       "      <td>0.0</td>\n",
       "      <td>1647.195706</td>\n",
       "      <td>117.254521</td>\n",
       "      <td>1607.0</td>\n",
       "    </tr>\n",
       "    <tr>\n",
       "      <th>1</th>\n",
       "      <td>176.0</td>\n",
       "      <td>373.0</td>\n",
       "      <td>984.0</td>\n",
       "      <td>2.0</td>\n",
       "      <td>509.0</td>\n",
       "      <td>0.0</td>\n",
       "      <td>1647.195706</td>\n",
       "      <td>117.254521</td>\n",
       "      <td>1619.0</td>\n",
       "    </tr>\n",
       "    <tr>\n",
       "      <th>2</th>\n",
       "      <td>177.0</td>\n",
       "      <td>371.0</td>\n",
       "      <td>985.0</td>\n",
       "      <td>3.0</td>\n",
       "      <td>506.0</td>\n",
       "      <td>0.0</td>\n",
       "      <td>1647.195706</td>\n",
       "      <td>117.254521</td>\n",
       "      <td>1660.0</td>\n",
       "    </tr>\n",
       "    <tr>\n",
       "      <th>3</th>\n",
       "      <td>177.0</td>\n",
       "      <td>374.0</td>\n",
       "      <td>985.0</td>\n",
       "      <td>4.0</td>\n",
       "      <td>504.0</td>\n",
       "      <td>0.0</td>\n",
       "      <td>1647.195706</td>\n",
       "      <td>117.254521</td>\n",
       "      <td>1633.0</td>\n",
       "    </tr>\n",
       "    <tr>\n",
       "      <th>4</th>\n",
       "      <td>177.0</td>\n",
       "      <td>377.0</td>\n",
       "      <td>984.0</td>\n",
       "      <td>5.0</td>\n",
       "      <td>508.0</td>\n",
       "      <td>0.0</td>\n",
       "      <td>1647.195706</td>\n",
       "      <td>117.254521</td>\n",
       "      <td>1520.0</td>\n",
       "    </tr>\n",
       "  </tbody>\n",
       "</table>\n",
       "</div>"
      ],
      "text/plain": [
       "       0      1      2    3      4    5            6           7       8\n",
       "0  177.0  372.0  984.0  1.0  516.0  0.0  1647.195706  117.254521  1607.0\n",
       "1  176.0  373.0  984.0  2.0  509.0  0.0  1647.195706  117.254521  1619.0\n",
       "2  177.0  371.0  985.0  3.0  506.0  0.0  1647.195706  117.254521  1660.0\n",
       "3  177.0  374.0  985.0  4.0  504.0  0.0  1647.195706  117.254521  1633.0\n",
       "4  177.0  377.0  984.0  5.0  508.0  0.0  1647.195706  117.254521  1520.0"
      ]
     },
     "execution_count": 145,
     "metadata": {},
     "output_type": "execute_result"
    }
   ],
   "source": [
    "updated_dataset.head()"
   ]
  },
  {
   "cell_type": "code",
   "execution_count": 146,
   "metadata": {},
   "outputs": [],
   "source": [
    "dataset = pd.read_csv(\"cali_renaw.csv\")"
   ]
  },
  {
   "cell_type": "code",
   "execution_count": 147,
   "metadata": {},
   "outputs": [
    {
     "data": {
      "text/html": [
       "<div>\n",
       "<style scoped>\n",
       "    .dataframe tbody tr th:only-of-type {\n",
       "        vertical-align: middle;\n",
       "    }\n",
       "\n",
       "    .dataframe tbody tr th {\n",
       "        vertical-align: top;\n",
       "    }\n",
       "\n",
       "    .dataframe thead th {\n",
       "        text-align: right;\n",
       "    }\n",
       "</style>\n",
       "<table border=\"1\" class=\"dataframe\">\n",
       "  <thead>\n",
       "    <tr style=\"text-align: right;\">\n",
       "      <th></th>\n",
       "      <th>TIMESTAMP</th>\n",
       "      <th>0</th>\n",
       "      <th>1</th>\n",
       "      <th>2</th>\n",
       "      <th>3</th>\n",
       "      <th>4</th>\n",
       "      <th>5</th>\n",
       "      <th>6</th>\n",
       "      <th>7</th>\n",
       "      <th>8</th>\n",
       "    </tr>\n",
       "  </thead>\n",
       "  <tbody>\n",
       "    <tr>\n",
       "      <th>0</th>\n",
       "      <td>2011-07-21 00:00:00</td>\n",
       "      <td>177.0</td>\n",
       "      <td>372.0</td>\n",
       "      <td>984.0</td>\n",
       "      <td>1.0</td>\n",
       "      <td>516.0</td>\n",
       "      <td>0.0</td>\n",
       "      <td>1647.195706</td>\n",
       "      <td>117.254521</td>\n",
       "      <td>1607.0</td>\n",
       "    </tr>\n",
       "    <tr>\n",
       "      <th>1</th>\n",
       "      <td>2011-07-21 01:00:00</td>\n",
       "      <td>176.0</td>\n",
       "      <td>373.0</td>\n",
       "      <td>984.0</td>\n",
       "      <td>2.0</td>\n",
       "      <td>509.0</td>\n",
       "      <td>0.0</td>\n",
       "      <td>1647.195706</td>\n",
       "      <td>117.254521</td>\n",
       "      <td>1619.0</td>\n",
       "    </tr>\n",
       "    <tr>\n",
       "      <th>2</th>\n",
       "      <td>2011-07-21 02:00:00</td>\n",
       "      <td>177.0</td>\n",
       "      <td>371.0</td>\n",
       "      <td>985.0</td>\n",
       "      <td>3.0</td>\n",
       "      <td>506.0</td>\n",
       "      <td>0.0</td>\n",
       "      <td>1647.195706</td>\n",
       "      <td>117.254521</td>\n",
       "      <td>1660.0</td>\n",
       "    </tr>\n",
       "    <tr>\n",
       "      <th>3</th>\n",
       "      <td>2011-07-21 03:00:00</td>\n",
       "      <td>177.0</td>\n",
       "      <td>374.0</td>\n",
       "      <td>985.0</td>\n",
       "      <td>4.0</td>\n",
       "      <td>504.0</td>\n",
       "      <td>0.0</td>\n",
       "      <td>1647.195706</td>\n",
       "      <td>117.254521</td>\n",
       "      <td>1633.0</td>\n",
       "    </tr>\n",
       "    <tr>\n",
       "      <th>4</th>\n",
       "      <td>2011-07-21 04:00:00</td>\n",
       "      <td>177.0</td>\n",
       "      <td>377.0</td>\n",
       "      <td>984.0</td>\n",
       "      <td>5.0</td>\n",
       "      <td>508.0</td>\n",
       "      <td>0.0</td>\n",
       "      <td>1647.195706</td>\n",
       "      <td>117.254521</td>\n",
       "      <td>1520.0</td>\n",
       "    </tr>\n",
       "  </tbody>\n",
       "</table>\n",
       "</div>"
      ],
      "text/plain": [
       "             TIMESTAMP      0      1      2    3      4    5            6  \\\n",
       "0  2011-07-21 00:00:00  177.0  372.0  984.0  1.0  516.0  0.0  1647.195706   \n",
       "1  2011-07-21 01:00:00  176.0  373.0  984.0  2.0  509.0  0.0  1647.195706   \n",
       "2  2011-07-21 02:00:00  177.0  371.0  985.0  3.0  506.0  0.0  1647.195706   \n",
       "3  2011-07-21 03:00:00  177.0  374.0  985.0  4.0  504.0  0.0  1647.195706   \n",
       "4  2011-07-21 04:00:00  177.0  377.0  984.0  5.0  508.0  0.0  1647.195706   \n",
       "\n",
       "            7       8  \n",
       "0  117.254521  1607.0  \n",
       "1  117.254521  1619.0  \n",
       "2  117.254521  1660.0  \n",
       "3  117.254521  1633.0  \n",
       "4  117.254521  1520.0  "
      ]
     },
     "execution_count": 147,
     "metadata": {},
     "output_type": "execute_result"
    }
   ],
   "source": [
    "updated_dataset.insert(0, 'TIMESTAMP', dataset['TIMESTAMP'])\n",
    "updated_dataset"
   ]
  },
  {
   "cell_type": "code",
   "execution_count": 148,
   "metadata": {},
   "outputs": [],
   "source": [
    "updated_dataset.columns = dataset.columns\n",
    "updated_dataset.index = dataset.index"
   ]
  },
  {
   "cell_type": "code",
   "execution_count": 174,
   "metadata": {},
   "outputs": [],
   "source": [
    "updated_dataset = updated_dataset.sort_values(['TIMESTAMP'])\n"
   ]
  },
  {
   "cell_type": "code",
   "execution_count": 179,
   "metadata": {},
   "outputs": [],
   "source": []
  },
  {
   "cell_type": "code",
   "execution_count": 171,
   "metadata": {},
   "outputs": [
    {
     "data": {
      "text/html": [
       "<div>\n",
       "<style scoped>\n",
       "    .dataframe tbody tr th:only-of-type {\n",
       "        vertical-align: middle;\n",
       "    }\n",
       "\n",
       "    .dataframe tbody tr th {\n",
       "        vertical-align: top;\n",
       "    }\n",
       "\n",
       "    .dataframe thead th {\n",
       "        text-align: right;\n",
       "    }\n",
       "</style>\n",
       "<table border=\"1\" class=\"dataframe\">\n",
       "  <thead>\n",
       "    <tr style=\"text-align: right;\">\n",
       "      <th></th>\n",
       "      <th>TIMESTAMP</th>\n",
       "      <th>BIOGAS</th>\n",
       "      <th>BIOMASS</th>\n",
       "      <th>GEOTHERMAL</th>\n",
       "      <th>Hour</th>\n",
       "      <th>SMALL HYDRO</th>\n",
       "      <th>SOLAR</th>\n",
       "      <th>SOLAR PV</th>\n",
       "      <th>SOLAR THERMAL</th>\n",
       "      <th>WIND TOTAL</th>\n",
       "    </tr>\n",
       "  </thead>\n",
       "  <tbody>\n",
       "    <tr>\n",
       "      <th>0</th>\n",
       "      <td>2010-04-20 00:00:00</td>\n",
       "      <td>170.0</td>\n",
       "      <td>323.0</td>\n",
       "      <td>1056.0</td>\n",
       "      <td>1.0</td>\n",
       "      <td>250.0</td>\n",
       "      <td>0.0</td>\n",
       "      <td>1647.195706</td>\n",
       "      <td>117.254521</td>\n",
       "      <td>632.0</td>\n",
       "    </tr>\n",
       "    <tr>\n",
       "      <th>1</th>\n",
       "      <td>2010-04-20 01:00:00</td>\n",
       "      <td>169.0</td>\n",
       "      <td>318.0</td>\n",
       "      <td>1055.0</td>\n",
       "      <td>2.0</td>\n",
       "      <td>245.0</td>\n",
       "      <td>0.0</td>\n",
       "      <td>1647.195706</td>\n",
       "      <td>117.254521</td>\n",
       "      <td>632.0</td>\n",
       "    </tr>\n",
       "    <tr>\n",
       "      <th>2</th>\n",
       "      <td>2010-04-20 02:00:00</td>\n",
       "      <td>168.0</td>\n",
       "      <td>316.0</td>\n",
       "      <td>1058.0</td>\n",
       "      <td>3.0</td>\n",
       "      <td>240.0</td>\n",
       "      <td>0.0</td>\n",
       "      <td>1647.195706</td>\n",
       "      <td>117.254521</td>\n",
       "      <td>677.0</td>\n",
       "    </tr>\n",
       "    <tr>\n",
       "      <th>3</th>\n",
       "      <td>NaN</td>\n",
       "      <td>507.0</td>\n",
       "      <td>957.0</td>\n",
       "      <td>3169.0</td>\n",
       "      <td>6.0</td>\n",
       "      <td>735.0</td>\n",
       "      <td>0.0</td>\n",
       "      <td>4941.587119</td>\n",
       "      <td>351.763562</td>\n",
       "      <td>1941.0</td>\n",
       "    </tr>\n",
       "  </tbody>\n",
       "</table>\n",
       "</div>"
      ],
      "text/plain": [
       "             TIMESTAMP  BIOGAS  BIOMASS  GEOTHERMAL  Hour  SMALL HYDRO  SOLAR  \\\n",
       "0  2010-04-20 00:00:00   170.0    323.0      1056.0   1.0        250.0    0.0   \n",
       "1  2010-04-20 01:00:00   169.0    318.0      1055.0   2.0        245.0    0.0   \n",
       "2  2010-04-20 02:00:00   168.0    316.0      1058.0   3.0        240.0    0.0   \n",
       "3                  NaN   507.0    957.0      3169.0   6.0        735.0    0.0   \n",
       "\n",
       "      SOLAR PV  SOLAR THERMAL  WIND TOTAL  \n",
       "0  1647.195706     117.254521       632.0  \n",
       "1  1647.195706     117.254521       632.0  \n",
       "2  1647.195706     117.254521       677.0  \n",
       "3  4941.587119     351.763562      1941.0  "
      ]
     },
     "execution_count": 171,
     "metadata": {},
     "output_type": "execute_result"
    }
   ],
   "source": [
    "denemed.append(denemed.iloc[:, 1:].sum(axis = 0), ignore_index = True)"
   ]
  },
  {
   "cell_type": "code",
   "execution_count": null,
   "metadata": {},
   "outputs": [],
   "source": []
  },
  {
   "cell_type": "code",
   "execution_count": null,
   "metadata": {},
   "outputs": [],
   "source": []
  },
  {
   "cell_type": "code",
   "execution_count": null,
   "metadata": {},
   "outputs": [],
   "source": []
  },
  {
   "cell_type": "code",
   "execution_count": null,
   "metadata": {},
   "outputs": [],
   "source": []
  },
  {
   "cell_type": "code",
   "execution_count": null,
   "metadata": {},
   "outputs": [],
   "source": []
  },
  {
   "cell_type": "code",
   "execution_count": null,
   "metadata": {},
   "outputs": [],
   "source": []
  },
  {
   "cell_type": "code",
   "execution_count": null,
   "metadata": {},
   "outputs": [],
   "source": []
  },
  {
   "cell_type": "code",
   "execution_count": null,
   "metadata": {},
   "outputs": [],
   "source": []
  },
  {
   "cell_type": "code",
   "execution_count": null,
   "metadata": {},
   "outputs": [],
   "source": []
  },
  {
   "cell_type": "code",
   "execution_count": null,
   "metadata": {},
   "outputs": [],
   "source": []
  },
  {
   "cell_type": "code",
   "execution_count": null,
   "metadata": {},
   "outputs": [],
   "source": []
  }
 ],
 "metadata": {
  "kernelspec": {
   "display_name": "Python 3",
   "language": "python",
   "name": "python3"
  },
  "language_info": {
   "codemirror_mode": {
    "name": "ipython",
    "version": 3
   },
   "file_extension": ".py",
   "mimetype": "text/x-python",
   "name": "python",
   "nbconvert_exporter": "python",
   "pygments_lexer": "ipython3",
   "version": "3.7.0"
  }
 },
 "nbformat": 4,
 "nbformat_minor": 2
}
